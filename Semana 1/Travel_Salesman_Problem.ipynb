{
  "nbformat": 4,
  "nbformat_minor": 0,
  "metadata": {
    "colab": {
      "name": "Travel Salesman Problem.ipynb",
      "provenance": [],
      "collapsed_sections": [],
      "authorship_tag": "ABX9TyNXSx4lRAspKqR3/MkEuzJQ",
      "include_colab_link": true
    },
    "kernelspec": {
      "name": "python3",
      "display_name": "Python 3"
    },
    "language_info": {
      "name": "python"
    }
  },
  "cells": [
    {
      "cell_type": "markdown",
      "metadata": {
        "id": "view-in-github",
        "colab_type": "text"
      },
      "source": [
        "<a href=\"https://colab.research.google.com/github/fjme95/calculo-optimizacion/blob/main/Semana%201/Travel_Salesman_Problem.ipynb\" target=\"_parent\"><img src=\"https://colab.research.google.com/assets/colab-badge.svg\" alt=\"Open In Colab\"/></a>"
      ]
    },
    {
      "cell_type": "markdown",
      "metadata": {
        "id": "mEH70AWcz_q4"
      },
      "source": [
        "Ocuparemos programación lineal para resolver el **Travel Salesman Problem**.\n",
        "\n",
        "El problema es encontrar la **ruta más corta que conecta a todas las ciudades**, con las restricciones de que debe ser una única ruta (i.e. no puede haber sub rutas) y sólo se puede entrar y salir de cada ciudad una sola vez.\n",
        "\n",
        "Se crearan las \"coordenadas\" de ciudades ficticias y para medir su distancia se ocupará la distancia euclideana. "
      ]
    },
    {
      "cell_type": "markdown",
      "metadata": {
        "id": "hDsNCo_xz-AN"
      },
      "source": [
        "# Dependencias"
      ]
    },
    {
      "cell_type": "code",
      "metadata": {
        "colab": {
          "base_uri": "https://localhost:8080/"
        },
        "id": "XEmr366AXhWk",
        "outputId": "bb7f796b-ca82-44b8-b150-4a4662b1d0ad"
      },
      "source": [
        "!pip install mip\n",
        "!pip install -U plotly"
      ],
      "execution_count": null,
      "outputs": [
        {
          "output_type": "stream",
          "name": "stdout",
          "text": [
            "Requirement already satisfied: mip in /usr/local/lib/python3.7/dist-packages (1.13.0)\n",
            "Requirement already satisfied: cffi in /usr/local/lib/python3.7/dist-packages (from mip) (1.14.6)\n",
            "Requirement already satisfied: pycparser in /usr/local/lib/python3.7/dist-packages (from cffi->mip) (2.20)\n",
            "Requirement already satisfied: plotly in /usr/local/lib/python3.7/dist-packages (5.3.1)\n",
            "Requirement already satisfied: six in /usr/local/lib/python3.7/dist-packages (from plotly) (1.15.0)\n",
            "Requirement already satisfied: tenacity>=6.2.0 in /usr/local/lib/python3.7/dist-packages (from plotly) (8.0.1)\n"
          ]
        }
      ]
    },
    {
      "cell_type": "code",
      "metadata": {
        "id": "tZajVv1NXSXl"
      },
      "source": [
        "import pandas as pd\n",
        "import numpy as np\n",
        "\n",
        "from scipy.spatial import distance_matrix\n",
        "\n",
        "from itertools import product\n",
        "from mip import Model, xsum, minimize, BINARY\n",
        "\n",
        "import plotly.express as px\n",
        "import plotly.io as pio"
      ],
      "execution_count": null,
      "outputs": []
    },
    {
      "cell_type": "code",
      "metadata": {
        "id": "ybQYQteqaJ8e"
      },
      "source": [
        "pio.templates.default = \"plotly_white\""
      ],
      "execution_count": null,
      "outputs": []
    },
    {
      "cell_type": "markdown",
      "metadata": {
        "id": "1IENwnBL2O2e"
      },
      "source": [
        "# Funciones para la visualización de los datos"
      ]
    },
    {
      "cell_type": "code",
      "metadata": {
        "id": "lUN7M8d_Z67I"
      },
      "source": [
        "def plot_cities(coords):\n",
        "    fig = px.scatter(coords.reset_index(), 'x', 'y', hover_name='index')\n",
        "    fig.update_traces(marker=dict(size=15,\n",
        "                                line=dict(width=2,\n",
        "                                            color='DarkSlateGrey')),\n",
        "                    selector=dict(mode='markers')\n",
        "                    )\n",
        "    return fig\n",
        "\n",
        "def plot_cities_and_route(points, edges):\n",
        "    fig = plot_cities(points)\n",
        "    for edge in edges:\n",
        "        fig.add_shape(\n",
        "            type = 'line', \n",
        "            x0 = points.loc[f'ciudad_{edge[0]}', 'x'], \n",
        "            x1 = points.loc[f'ciudad_{edge[1]}', 'x'], \n",
        "            y0 = points.loc[f'ciudad_{edge[0]}', 'y'], \n",
        "            y1 = points.loc[f'ciudad_{edge[1]}', 'y'], \n",
        "            line = dict(color = 'rgb(0, 0, 0)'), \n",
        "            opacity = .09,\n",
        "            )\n",
        "        fig.add_scatter(x = [mid_points[edge[0]][edge[1]][0]], y = [mid_points[edge[0]][edge[1]][1]], text = [c[edge[0]][edge[1]]], mode='text')\n",
        "    fig.update_traces(texttemplate='%{text:.2s}', textposition='top right')\n",
        "    fig.update_layout(uniformtext_minsize=8, uniformtext_mode='hide', showlegend=False)\n",
        "    fig.show()"
      ],
      "execution_count": null,
      "outputs": []
    },
    {
      "cell_type": "code",
      "metadata": {
        "id": "zqYLNhWL3TKd"
      },
      "source": [
        "def get_middle_points(coords):\n",
        "    return [[((x[0]+y[0])/2, (x[1]+y[1])/2) for _, y in coords.iterrows()] for _, x in coords.iterrows()]"
      ],
      "execution_count": null,
      "outputs": []
    },
    {
      "cell_type": "markdown",
      "metadata": {
        "id": "rzHE8IMz2AqW"
      },
      "source": [
        "# Datos"
      ]
    },
    {
      "cell_type": "markdown",
      "metadata": {
        "id": "YhQfYSMh5IAR"
      },
      "source": [
        "Primero crearemos las ciudades y sus coordenadas"
      ]
    },
    {
      "cell_type": "code",
      "metadata": {
        "colab": {
          "base_uri": "https://localhost:8080/",
          "height": 357
        },
        "id": "SqomUA2cYbrb",
        "outputId": "8e6573d2-6c43-4821-f8a4-c4d1dc154f16"
      },
      "source": [
        "np.random.seed(10)\n",
        "\n",
        "n = 10 # número de ciudades\n",
        "\n",
        "points = pd.DataFrame(np.random.randint(0, 30, (n, 2)), columns = ['x', 'y'], index = [f'ciudad_{i}' for i in range(n)])  # coordenadas en el plano cartesiano de cada ciudad\n",
        "points"
      ],
      "execution_count": null,
      "outputs": [
        {
          "output_type": "execute_result",
          "data": {
            "text/html": [
              "<div>\n",
              "<style scoped>\n",
              "    .dataframe tbody tr th:only-of-type {\n",
              "        vertical-align: middle;\n",
              "    }\n",
              "\n",
              "    .dataframe tbody tr th {\n",
              "        vertical-align: top;\n",
              "    }\n",
              "\n",
              "    .dataframe thead th {\n",
              "        text-align: right;\n",
              "    }\n",
              "</style>\n",
              "<table border=\"1\" class=\"dataframe\">\n",
              "  <thead>\n",
              "    <tr style=\"text-align: right;\">\n",
              "      <th></th>\n",
              "      <th>x</th>\n",
              "      <th>y</th>\n",
              "    </tr>\n",
              "  </thead>\n",
              "  <tbody>\n",
              "    <tr>\n",
              "      <th>ciudad_0</th>\n",
              "      <td>9</td>\n",
              "      <td>29</td>\n",
              "    </tr>\n",
              "    <tr>\n",
              "      <th>ciudad_1</th>\n",
              "      <td>4</td>\n",
              "      <td>15</td>\n",
              "    </tr>\n",
              "    <tr>\n",
              "      <th>ciudad_2</th>\n",
              "      <td>0</td>\n",
              "      <td>17</td>\n",
              "    </tr>\n",
              "    <tr>\n",
              "      <th>ciudad_3</th>\n",
              "      <td>27</td>\n",
              "      <td>28</td>\n",
              "    </tr>\n",
              "    <tr>\n",
              "      <th>ciudad_4</th>\n",
              "      <td>25</td>\n",
              "      <td>29</td>\n",
              "    </tr>\n",
              "    <tr>\n",
              "      <th>ciudad_5</th>\n",
              "      <td>16</td>\n",
              "      <td>29</td>\n",
              "    </tr>\n",
              "    <tr>\n",
              "      <th>ciudad_6</th>\n",
              "      <td>17</td>\n",
              "      <td>26</td>\n",
              "    </tr>\n",
              "    <tr>\n",
              "      <th>ciudad_7</th>\n",
              "      <td>8</td>\n",
              "      <td>9</td>\n",
              "    </tr>\n",
              "    <tr>\n",
              "      <th>ciudad_8</th>\n",
              "      <td>0</td>\n",
              "      <td>10</td>\n",
              "    </tr>\n",
              "    <tr>\n",
              "      <th>ciudad_9</th>\n",
              "      <td>8</td>\n",
              "      <td>22</td>\n",
              "    </tr>\n",
              "  </tbody>\n",
              "</table>\n",
              "</div>"
            ],
            "text/plain": [
              "           x   y\n",
              "ciudad_0   9  29\n",
              "ciudad_1   4  15\n",
              "ciudad_2   0  17\n",
              "ciudad_3  27  28\n",
              "ciudad_4  25  29\n",
              "ciudad_5  16  29\n",
              "ciudad_6  17  26\n",
              "ciudad_7   8   9\n",
              "ciudad_8   0  10\n",
              "ciudad_9   8  22"
            ]
          },
          "metadata": {},
          "execution_count": 6
        }
      ]
    },
    {
      "cell_type": "markdown",
      "metadata": {
        "id": "JVSBoy055MXq"
      },
      "source": [
        "Obtenemos el punto medio entre cada ciudad"
      ]
    },
    {
      "cell_type": "code",
      "metadata": {
        "id": "Op7Pz7Qk3V5M"
      },
      "source": [
        "mid_points = get_middle_points(points)"
      ],
      "execution_count": null,
      "outputs": []
    },
    {
      "cell_type": "markdown",
      "metadata": {
        "id": "DBet8zI45QK8"
      },
      "source": [
        "Creamos la matriz de distancias"
      ]
    },
    {
      "cell_type": "code",
      "metadata": {
        "colab": {
          "base_uri": "https://localhost:8080/"
        },
        "id": "rqEtFqajZ3VL",
        "outputId": "d71a21a0-1286-45bb-d64d-ec770415cebc"
      },
      "source": [
        "c = distance_matrix(points, points)  # Distancia entre las ciudades\n",
        "c[:5, :5]"
      ],
      "execution_count": null,
      "outputs": [
        {
          "output_type": "execute_result",
          "data": {
            "text/plain": [
              "array([[ 0.        , 14.86606875, 15.        , 18.02775638, 16.        ],\n",
              "       [14.86606875,  0.        ,  4.47213595, 26.41968963, 25.23885893],\n",
              "       [15.        ,  4.47213595,  0.        , 29.15475947, 27.73084925],\n",
              "       [18.02775638, 26.41968963, 29.15475947,  0.        ,  2.23606798],\n",
              "       [16.        , 25.23885893, 27.73084925,  2.23606798,  0.        ]])"
            ]
          },
          "metadata": {},
          "execution_count": 8
        }
      ]
    },
    {
      "cell_type": "markdown",
      "metadata": {
        "id": "_HTrxK-V49WA"
      },
      "source": [
        "## Visualización de los datos"
      ]
    },
    {
      "cell_type": "code",
      "metadata": {
        "colab": {
          "base_uri": "https://localhost:8080/",
          "height": 542
        },
        "id": "3zIfF-pE2d1R",
        "outputId": "4d8146f1-b79f-410f-ae1d-5fcd58b20446"
      },
      "source": [
        "plot_cities_and_route(points, product(range(n), range(n))) # Visualización de las ciudades"
      ],
      "execution_count": null,
      "outputs": [
        {
          "output_type": "display_data",
          "data": {
            "text/html": [
              "<html>\n",
              "<head><meta charset=\"utf-8\" /></head>\n",
              "<body>\n",
              "    <div>            <script src=\"https://cdnjs.cloudflare.com/ajax/libs/mathjax/2.7.5/MathJax.js?config=TeX-AMS-MML_SVG\"></script><script type=\"text/javascript\">if (window.MathJax) {MathJax.Hub.Config({SVG: {font: \"STIX-Web\"}});}</script>                <script type=\"text/javascript\">window.PlotlyConfig = {MathJaxConfig: 'local'};</script>\n",
              "        <script src=\"https://cdn.plot.ly/plotly-2.4.2.min.js\"></script>                <div id=\"90dc4d61-57b5-4b93-969f-52e4dfb3ee67\" class=\"plotly-graph-div\" style=\"height:525px; width:100%;\"></div>            <script type=\"text/javascript\">                                    window.PLOTLYENV=window.PLOTLYENV || {};                                    if (document.getElementById(\"90dc4d61-57b5-4b93-969f-52e4dfb3ee67\")) {                    Plotly.newPlot(                        \"90dc4d61-57b5-4b93-969f-52e4dfb3ee67\",                        [{\"hovertemplate\":\"<b>%{hovertext}</b><br><br>x=%{x}<br>y=%{y}<extra></extra>\",\"hovertext\":[\"ciudad_0\",\"ciudad_1\",\"ciudad_2\",\"ciudad_3\",\"ciudad_4\",\"ciudad_5\",\"ciudad_6\",\"ciudad_7\",\"ciudad_8\",\"ciudad_9\"],\"legendgroup\":\"\",\"marker\":{\"color\":\"#636efa\",\"line\":{\"color\":\"DarkSlateGrey\",\"width\":2},\"size\":15,\"symbol\":\"circle\"},\"mode\":\"markers\",\"name\":\"\",\"orientation\":\"v\",\"showlegend\":false,\"textposition\":\"top right\",\"texttemplate\":\"%{text:.2s}\",\"type\":\"scatter\",\"x\":[9,4,0,27,25,16,17,8,0,8],\"xaxis\":\"x\",\"y\":[29,15,17,28,29,29,26,9,10,22],\"yaxis\":\"y\"},{\"mode\":\"text\",\"text\":[\"0.0\"],\"textposition\":\"top right\",\"texttemplate\":\"%{text:.2s}\",\"type\":\"scatter\",\"x\":[9.0],\"y\":[29.0]},{\"mode\":\"text\",\"text\":[\"14.866068747318506\"],\"textposition\":\"top right\",\"texttemplate\":\"%{text:.2s}\",\"type\":\"scatter\",\"x\":[6.5],\"y\":[22.0]},{\"mode\":\"text\",\"text\":[\"15.0\"],\"textposition\":\"top right\",\"texttemplate\":\"%{text:.2s}\",\"type\":\"scatter\",\"x\":[4.5],\"y\":[23.0]},{\"mode\":\"text\",\"text\":[\"18.027756377319946\"],\"textposition\":\"top right\",\"texttemplate\":\"%{text:.2s}\",\"type\":\"scatter\",\"x\":[18.0],\"y\":[28.5]},{\"mode\":\"text\",\"text\":[\"16.0\"],\"textposition\":\"top right\",\"texttemplate\":\"%{text:.2s}\",\"type\":\"scatter\",\"x\":[17.0],\"y\":[29.0]},{\"mode\":\"text\",\"text\":[\"7.0\"],\"textposition\":\"top right\",\"texttemplate\":\"%{text:.2s}\",\"type\":\"scatter\",\"x\":[12.5],\"y\":[29.0]},{\"mode\":\"text\",\"text\":[\"8.54400374531753\"],\"textposition\":\"top right\",\"texttemplate\":\"%{text:.2s}\",\"type\":\"scatter\",\"x\":[13.0],\"y\":[27.5]},{\"mode\":\"text\",\"text\":[\"20.024984394500787\"],\"textposition\":\"top right\",\"texttemplate\":\"%{text:.2s}\",\"type\":\"scatter\",\"x\":[8.5],\"y\":[19.0]},{\"mode\":\"text\",\"text\":[\"21.02379604162864\"],\"textposition\":\"top right\",\"texttemplate\":\"%{text:.2s}\",\"type\":\"scatter\",\"x\":[4.5],\"y\":[19.5]},{\"mode\":\"text\",\"text\":[\"7.0710678118654755\"],\"textposition\":\"top right\",\"texttemplate\":\"%{text:.2s}\",\"type\":\"scatter\",\"x\":[8.5],\"y\":[25.5]},{\"mode\":\"text\",\"text\":[\"14.866068747318506\"],\"textposition\":\"top right\",\"texttemplate\":\"%{text:.2s}\",\"type\":\"scatter\",\"x\":[6.5],\"y\":[22.0]},{\"mode\":\"text\",\"text\":[\"0.0\"],\"textposition\":\"top right\",\"texttemplate\":\"%{text:.2s}\",\"type\":\"scatter\",\"x\":[4.0],\"y\":[15.0]},{\"mode\":\"text\",\"text\":[\"4.47213595499958\"],\"textposition\":\"top right\",\"texttemplate\":\"%{text:.2s}\",\"type\":\"scatter\",\"x\":[2.0],\"y\":[16.0]},{\"mode\":\"text\",\"text\":[\"26.419689627245813\"],\"textposition\":\"top right\",\"texttemplate\":\"%{text:.2s}\",\"type\":\"scatter\",\"x\":[15.5],\"y\":[21.5]},{\"mode\":\"text\",\"text\":[\"25.238858928247925\"],\"textposition\":\"top right\",\"texttemplate\":\"%{text:.2s}\",\"type\":\"scatter\",\"x\":[14.5],\"y\":[22.0]},{\"mode\":\"text\",\"text\":[\"18.439088914585774\"],\"textposition\":\"top right\",\"texttemplate\":\"%{text:.2s}\",\"type\":\"scatter\",\"x\":[10.0],\"y\":[22.0]},{\"mode\":\"text\",\"text\":[\"17.029386365926403\"],\"textposition\":\"top right\",\"texttemplate\":\"%{text:.2s}\",\"type\":\"scatter\",\"x\":[10.5],\"y\":[20.5]},{\"mode\":\"text\",\"text\":[\"7.211102550927978\"],\"textposition\":\"top right\",\"texttemplate\":\"%{text:.2s}\",\"type\":\"scatter\",\"x\":[6.0],\"y\":[12.0]},{\"mode\":\"text\",\"text\":[\"6.4031242374328485\"],\"textposition\":\"top right\",\"texttemplate\":\"%{text:.2s}\",\"type\":\"scatter\",\"x\":[2.0],\"y\":[12.5]},{\"mode\":\"text\",\"text\":[\"8.06225774829855\"],\"textposition\":\"top right\",\"texttemplate\":\"%{text:.2s}\",\"type\":\"scatter\",\"x\":[6.0],\"y\":[18.5]},{\"mode\":\"text\",\"text\":[\"15.0\"],\"textposition\":\"top right\",\"texttemplate\":\"%{text:.2s}\",\"type\":\"scatter\",\"x\":[4.5],\"y\":[23.0]},{\"mode\":\"text\",\"text\":[\"4.47213595499958\"],\"textposition\":\"top right\",\"texttemplate\":\"%{text:.2s}\",\"type\":\"scatter\",\"x\":[2.0],\"y\":[16.0]},{\"mode\":\"text\",\"text\":[\"0.0\"],\"textposition\":\"top right\",\"texttemplate\":\"%{text:.2s}\",\"type\":\"scatter\",\"x\":[0.0],\"y\":[17.0]},{\"mode\":\"text\",\"text\":[\"29.154759474226502\"],\"textposition\":\"top right\",\"texttemplate\":\"%{text:.2s}\",\"type\":\"scatter\",\"x\":[13.5],\"y\":[22.5]},{\"mode\":\"text\",\"text\":[\"27.730849247724095\"],\"textposition\":\"top right\",\"texttemplate\":\"%{text:.2s}\",\"type\":\"scatter\",\"x\":[12.5],\"y\":[23.0]},{\"mode\":\"text\",\"text\":[\"20.0\"],\"textposition\":\"top right\",\"texttemplate\":\"%{text:.2s}\",\"type\":\"scatter\",\"x\":[8.0],\"y\":[23.0]},{\"mode\":\"text\",\"text\":[\"19.235384061671343\"],\"textposition\":\"top right\",\"texttemplate\":\"%{text:.2s}\",\"type\":\"scatter\",\"x\":[8.5],\"y\":[21.5]},{\"mode\":\"text\",\"text\":[\"11.313708498984761\"],\"textposition\":\"top right\",\"texttemplate\":\"%{text:.2s}\",\"type\":\"scatter\",\"x\":[4.0],\"y\":[13.0]},{\"mode\":\"text\",\"text\":[\"7.0\"],\"textposition\":\"top right\",\"texttemplate\":\"%{text:.2s}\",\"type\":\"scatter\",\"x\":[0.0],\"y\":[13.5]},{\"mode\":\"text\",\"text\":[\"9.433981132056603\"],\"textposition\":\"top right\",\"texttemplate\":\"%{text:.2s}\",\"type\":\"scatter\",\"x\":[4.0],\"y\":[19.5]},{\"mode\":\"text\",\"text\":[\"18.027756377319946\"],\"textposition\":\"top right\",\"texttemplate\":\"%{text:.2s}\",\"type\":\"scatter\",\"x\":[18.0],\"y\":[28.5]},{\"mode\":\"text\",\"text\":[\"26.419689627245813\"],\"textposition\":\"top right\",\"texttemplate\":\"%{text:.2s}\",\"type\":\"scatter\",\"x\":[15.5],\"y\":[21.5]},{\"mode\":\"text\",\"text\":[\"29.154759474226502\"],\"textposition\":\"top right\",\"texttemplate\":\"%{text:.2s}\",\"type\":\"scatter\",\"x\":[13.5],\"y\":[22.5]},{\"mode\":\"text\",\"text\":[\"0.0\"],\"textposition\":\"top right\",\"texttemplate\":\"%{text:.2s}\",\"type\":\"scatter\",\"x\":[27.0],\"y\":[28.0]},{\"mode\":\"text\",\"text\":[\"2.23606797749979\"],\"textposition\":\"top right\",\"texttemplate\":\"%{text:.2s}\",\"type\":\"scatter\",\"x\":[26.0],\"y\":[28.5]},{\"mode\":\"text\",\"text\":[\"11.045361017187261\"],\"textposition\":\"top right\",\"texttemplate\":\"%{text:.2s}\",\"type\":\"scatter\",\"x\":[21.5],\"y\":[28.5]},{\"mode\":\"text\",\"text\":[\"10.198039027185569\"],\"textposition\":\"top right\",\"texttemplate\":\"%{text:.2s}\",\"type\":\"scatter\",\"x\":[22.0],\"y\":[27.0]},{\"mode\":\"text\",\"text\":[\"26.870057685088806\"],\"textposition\":\"top right\",\"texttemplate\":\"%{text:.2s}\",\"type\":\"scatter\",\"x\":[17.5],\"y\":[18.5]},{\"mode\":\"text\",\"text\":[\"32.449961479175904\"],\"textposition\":\"top right\",\"texttemplate\":\"%{text:.2s}\",\"type\":\"scatter\",\"x\":[13.5],\"y\":[19.0]},{\"mode\":\"text\",\"text\":[\"19.924858845171276\"],\"textposition\":\"top right\",\"texttemplate\":\"%{text:.2s}\",\"type\":\"scatter\",\"x\":[17.5],\"y\":[25.0]},{\"mode\":\"text\",\"text\":[\"16.0\"],\"textposition\":\"top right\",\"texttemplate\":\"%{text:.2s}\",\"type\":\"scatter\",\"x\":[17.0],\"y\":[29.0]},{\"mode\":\"text\",\"text\":[\"25.238858928247925\"],\"textposition\":\"top right\",\"texttemplate\":\"%{text:.2s}\",\"type\":\"scatter\",\"x\":[14.5],\"y\":[22.0]},{\"mode\":\"text\",\"text\":[\"27.730849247724095\"],\"textposition\":\"top right\",\"texttemplate\":\"%{text:.2s}\",\"type\":\"scatter\",\"x\":[12.5],\"y\":[23.0]},{\"mode\":\"text\",\"text\":[\"2.23606797749979\"],\"textposition\":\"top right\",\"texttemplate\":\"%{text:.2s}\",\"type\":\"scatter\",\"x\":[26.0],\"y\":[28.5]},{\"mode\":\"text\",\"text\":[\"0.0\"],\"textposition\":\"top right\",\"texttemplate\":\"%{text:.2s}\",\"type\":\"scatter\",\"x\":[25.0],\"y\":[29.0]},{\"mode\":\"text\",\"text\":[\"9.0\"],\"textposition\":\"top right\",\"texttemplate\":\"%{text:.2s}\",\"type\":\"scatter\",\"x\":[20.5],\"y\":[29.0]},{\"mode\":\"text\",\"text\":[\"8.54400374531753\"],\"textposition\":\"top right\",\"texttemplate\":\"%{text:.2s}\",\"type\":\"scatter\",\"x\":[21.0],\"y\":[27.5]},{\"mode\":\"text\",\"text\":[\"26.248809496813376\"],\"textposition\":\"top right\",\"texttemplate\":\"%{text:.2s}\",\"type\":\"scatter\",\"x\":[16.5],\"y\":[19.0]},{\"mode\":\"text\",\"text\":[\"31.400636936215164\"],\"textposition\":\"top right\",\"texttemplate\":\"%{text:.2s}\",\"type\":\"scatter\",\"x\":[12.5],\"y\":[19.5]},{\"mode\":\"text\",\"text\":[\"18.384776310850235\"],\"textposition\":\"top right\",\"texttemplate\":\"%{text:.2s}\",\"type\":\"scatter\",\"x\":[16.5],\"y\":[25.5]},{\"mode\":\"text\",\"text\":[\"7.0\"],\"textposition\":\"top right\",\"texttemplate\":\"%{text:.2s}\",\"type\":\"scatter\",\"x\":[12.5],\"y\":[29.0]},{\"mode\":\"text\",\"text\":[\"18.439088914585774\"],\"textposition\":\"top right\",\"texttemplate\":\"%{text:.2s}\",\"type\":\"scatter\",\"x\":[10.0],\"y\":[22.0]},{\"mode\":\"text\",\"text\":[\"20.0\"],\"textposition\":\"top right\",\"texttemplate\":\"%{text:.2s}\",\"type\":\"scatter\",\"x\":[8.0],\"y\":[23.0]},{\"mode\":\"text\",\"text\":[\"11.045361017187261\"],\"textposition\":\"top right\",\"texttemplate\":\"%{text:.2s}\",\"type\":\"scatter\",\"x\":[21.5],\"y\":[28.5]},{\"mode\":\"text\",\"text\":[\"9.0\"],\"textposition\":\"top right\",\"texttemplate\":\"%{text:.2s}\",\"type\":\"scatter\",\"x\":[20.5],\"y\":[29.0]},{\"mode\":\"text\",\"text\":[\"0.0\"],\"textposition\":\"top right\",\"texttemplate\":\"%{text:.2s}\",\"type\":\"scatter\",\"x\":[16.0],\"y\":[29.0]},{\"mode\":\"text\",\"text\":[\"3.1622776601683795\"],\"textposition\":\"top right\",\"texttemplate\":\"%{text:.2s}\",\"type\":\"scatter\",\"x\":[16.5],\"y\":[27.5]},{\"mode\":\"text\",\"text\":[\"21.540659228538015\"],\"textposition\":\"top right\",\"texttemplate\":\"%{text:.2s}\",\"type\":\"scatter\",\"x\":[12.0],\"y\":[19.0]},{\"mode\":\"text\",\"text\":[\"24.839484696748443\"],\"textposition\":\"top right\",\"texttemplate\":\"%{text:.2s}\",\"type\":\"scatter\",\"x\":[8.0],\"y\":[19.5]},{\"mode\":\"text\",\"text\":[\"10.63014581273465\"],\"textposition\":\"top right\",\"texttemplate\":\"%{text:.2s}\",\"type\":\"scatter\",\"x\":[12.0],\"y\":[25.5]},{\"mode\":\"text\",\"text\":[\"8.54400374531753\"],\"textposition\":\"top right\",\"texttemplate\":\"%{text:.2s}\",\"type\":\"scatter\",\"x\":[13.0],\"y\":[27.5]},{\"mode\":\"text\",\"text\":[\"17.029386365926403\"],\"textposition\":\"top right\",\"texttemplate\":\"%{text:.2s}\",\"type\":\"scatter\",\"x\":[10.5],\"y\":[20.5]},{\"mode\":\"text\",\"text\":[\"19.235384061671343\"],\"textposition\":\"top right\",\"texttemplate\":\"%{text:.2s}\",\"type\":\"scatter\",\"x\":[8.5],\"y\":[21.5]},{\"mode\":\"text\",\"text\":[\"10.198039027185569\"],\"textposition\":\"top right\",\"texttemplate\":\"%{text:.2s}\",\"type\":\"scatter\",\"x\":[22.0],\"y\":[27.0]},{\"mode\":\"text\",\"text\":[\"8.54400374531753\"],\"textposition\":\"top right\",\"texttemplate\":\"%{text:.2s}\",\"type\":\"scatter\",\"x\":[21.0],\"y\":[27.5]},{\"mode\":\"text\",\"text\":[\"3.1622776601683795\"],\"textposition\":\"top right\",\"texttemplate\":\"%{text:.2s}\",\"type\":\"scatter\",\"x\":[16.5],\"y\":[27.5]},{\"mode\":\"text\",\"text\":[\"0.0\"],\"textposition\":\"top right\",\"texttemplate\":\"%{text:.2s}\",\"type\":\"scatter\",\"x\":[17.0],\"y\":[26.0]},{\"mode\":\"text\",\"text\":[\"19.235384061671343\"],\"textposition\":\"top right\",\"texttemplate\":\"%{text:.2s}\",\"type\":\"scatter\",\"x\":[12.5],\"y\":[17.5]},{\"mode\":\"text\",\"text\":[\"23.345235059857504\"],\"textposition\":\"top right\",\"texttemplate\":\"%{text:.2s}\",\"type\":\"scatter\",\"x\":[8.5],\"y\":[18.0]},{\"mode\":\"text\",\"text\":[\"9.848857801796104\"],\"textposition\":\"top right\",\"texttemplate\":\"%{text:.2s}\",\"type\":\"scatter\",\"x\":[12.5],\"y\":[24.0]},{\"mode\":\"text\",\"text\":[\"20.024984394500787\"],\"textposition\":\"top right\",\"texttemplate\":\"%{text:.2s}\",\"type\":\"scatter\",\"x\":[8.5],\"y\":[19.0]},{\"mode\":\"text\",\"text\":[\"7.211102550927978\"],\"textposition\":\"top right\",\"texttemplate\":\"%{text:.2s}\",\"type\":\"scatter\",\"x\":[6.0],\"y\":[12.0]},{\"mode\":\"text\",\"text\":[\"11.313708498984761\"],\"textposition\":\"top right\",\"texttemplate\":\"%{text:.2s}\",\"type\":\"scatter\",\"x\":[4.0],\"y\":[13.0]},{\"mode\":\"text\",\"text\":[\"26.870057685088806\"],\"textposition\":\"top right\",\"texttemplate\":\"%{text:.2s}\",\"type\":\"scatter\",\"x\":[17.5],\"y\":[18.5]},{\"mode\":\"text\",\"text\":[\"26.248809496813376\"],\"textposition\":\"top right\",\"texttemplate\":\"%{text:.2s}\",\"type\":\"scatter\",\"x\":[16.5],\"y\":[19.0]},{\"mode\":\"text\",\"text\":[\"21.540659228538015\"],\"textposition\":\"top right\",\"texttemplate\":\"%{text:.2s}\",\"type\":\"scatter\",\"x\":[12.0],\"y\":[19.0]},{\"mode\":\"text\",\"text\":[\"19.235384061671343\"],\"textposition\":\"top right\",\"texttemplate\":\"%{text:.2s}\",\"type\":\"scatter\",\"x\":[12.5],\"y\":[17.5]},{\"mode\":\"text\",\"text\":[\"0.0\"],\"textposition\":\"top right\",\"texttemplate\":\"%{text:.2s}\",\"type\":\"scatter\",\"x\":[8.0],\"y\":[9.0]},{\"mode\":\"text\",\"text\":[\"8.06225774829855\"],\"textposition\":\"top right\",\"texttemplate\":\"%{text:.2s}\",\"type\":\"scatter\",\"x\":[4.0],\"y\":[9.5]},{\"mode\":\"text\",\"text\":[\"13.0\"],\"textposition\":\"top right\",\"texttemplate\":\"%{text:.2s}\",\"type\":\"scatter\",\"x\":[8.0],\"y\":[15.5]},{\"mode\":\"text\",\"text\":[\"21.02379604162864\"],\"textposition\":\"top right\",\"texttemplate\":\"%{text:.2s}\",\"type\":\"scatter\",\"x\":[4.5],\"y\":[19.5]},{\"mode\":\"text\",\"text\":[\"6.4031242374328485\"],\"textposition\":\"top right\",\"texttemplate\":\"%{text:.2s}\",\"type\":\"scatter\",\"x\":[2.0],\"y\":[12.5]},{\"mode\":\"text\",\"text\":[\"7.0\"],\"textposition\":\"top right\",\"texttemplate\":\"%{text:.2s}\",\"type\":\"scatter\",\"x\":[0.0],\"y\":[13.5]},{\"mode\":\"text\",\"text\":[\"32.449961479175904\"],\"textposition\":\"top right\",\"texttemplate\":\"%{text:.2s}\",\"type\":\"scatter\",\"x\":[13.5],\"y\":[19.0]},{\"mode\":\"text\",\"text\":[\"31.400636936215164\"],\"textposition\":\"top right\",\"texttemplate\":\"%{text:.2s}\",\"type\":\"scatter\",\"x\":[12.5],\"y\":[19.5]},{\"mode\":\"text\",\"text\":[\"24.839484696748443\"],\"textposition\":\"top right\",\"texttemplate\":\"%{text:.2s}\",\"type\":\"scatter\",\"x\":[8.0],\"y\":[19.5]},{\"mode\":\"text\",\"text\":[\"23.345235059857504\"],\"textposition\":\"top right\",\"texttemplate\":\"%{text:.2s}\",\"type\":\"scatter\",\"x\":[8.5],\"y\":[18.0]},{\"mode\":\"text\",\"text\":[\"8.06225774829855\"],\"textposition\":\"top right\",\"texttemplate\":\"%{text:.2s}\",\"type\":\"scatter\",\"x\":[4.0],\"y\":[9.5]},{\"mode\":\"text\",\"text\":[\"0.0\"],\"textposition\":\"top right\",\"texttemplate\":\"%{text:.2s}\",\"type\":\"scatter\",\"x\":[0.0],\"y\":[10.0]},{\"mode\":\"text\",\"text\":[\"14.422205101855956\"],\"textposition\":\"top right\",\"texttemplate\":\"%{text:.2s}\",\"type\":\"scatter\",\"x\":[4.0],\"y\":[16.0]},{\"mode\":\"text\",\"text\":[\"7.0710678118654755\"],\"textposition\":\"top right\",\"texttemplate\":\"%{text:.2s}\",\"type\":\"scatter\",\"x\":[8.5],\"y\":[25.5]},{\"mode\":\"text\",\"text\":[\"8.06225774829855\"],\"textposition\":\"top right\",\"texttemplate\":\"%{text:.2s}\",\"type\":\"scatter\",\"x\":[6.0],\"y\":[18.5]},{\"mode\":\"text\",\"text\":[\"9.433981132056603\"],\"textposition\":\"top right\",\"texttemplate\":\"%{text:.2s}\",\"type\":\"scatter\",\"x\":[4.0],\"y\":[19.5]},{\"mode\":\"text\",\"text\":[\"19.924858845171276\"],\"textposition\":\"top right\",\"texttemplate\":\"%{text:.2s}\",\"type\":\"scatter\",\"x\":[17.5],\"y\":[25.0]},{\"mode\":\"text\",\"text\":[\"18.384776310850235\"],\"textposition\":\"top right\",\"texttemplate\":\"%{text:.2s}\",\"type\":\"scatter\",\"x\":[16.5],\"y\":[25.5]},{\"mode\":\"text\",\"text\":[\"10.63014581273465\"],\"textposition\":\"top right\",\"texttemplate\":\"%{text:.2s}\",\"type\":\"scatter\",\"x\":[12.0],\"y\":[25.5]},{\"mode\":\"text\",\"text\":[\"9.848857801796104\"],\"textposition\":\"top right\",\"texttemplate\":\"%{text:.2s}\",\"type\":\"scatter\",\"x\":[12.5],\"y\":[24.0]},{\"mode\":\"text\",\"text\":[\"13.0\"],\"textposition\":\"top right\",\"texttemplate\":\"%{text:.2s}\",\"type\":\"scatter\",\"x\":[8.0],\"y\":[15.5]},{\"mode\":\"text\",\"text\":[\"14.422205101855956\"],\"textposition\":\"top right\",\"texttemplate\":\"%{text:.2s}\",\"type\":\"scatter\",\"x\":[4.0],\"y\":[16.0]},{\"mode\":\"text\",\"text\":[\"0.0\"],\"textposition\":\"top right\",\"texttemplate\":\"%{text:.2s}\",\"type\":\"scatter\",\"x\":[8.0],\"y\":[22.0]}],                        {\"legend\":{\"tracegroupgap\":0},\"margin\":{\"t\":60},\"shapes\":[{\"line\":{\"color\":\"rgb(0, 0, 0)\"},\"opacity\":0.09,\"type\":\"line\",\"x0\":9,\"x1\":9,\"y0\":29,\"y1\":29},{\"line\":{\"color\":\"rgb(0, 0, 0)\"},\"opacity\":0.09,\"type\":\"line\",\"x0\":9,\"x1\":4,\"y0\":29,\"y1\":15},{\"line\":{\"color\":\"rgb(0, 0, 0)\"},\"opacity\":0.09,\"type\":\"line\",\"x0\":9,\"x1\":0,\"y0\":29,\"y1\":17},{\"line\":{\"color\":\"rgb(0, 0, 0)\"},\"opacity\":0.09,\"type\":\"line\",\"x0\":9,\"x1\":27,\"y0\":29,\"y1\":28},{\"line\":{\"color\":\"rgb(0, 0, 0)\"},\"opacity\":0.09,\"type\":\"line\",\"x0\":9,\"x1\":25,\"y0\":29,\"y1\":29},{\"line\":{\"color\":\"rgb(0, 0, 0)\"},\"opacity\":0.09,\"type\":\"line\",\"x0\":9,\"x1\":16,\"y0\":29,\"y1\":29},{\"line\":{\"color\":\"rgb(0, 0, 0)\"},\"opacity\":0.09,\"type\":\"line\",\"x0\":9,\"x1\":17,\"y0\":29,\"y1\":26},{\"line\":{\"color\":\"rgb(0, 0, 0)\"},\"opacity\":0.09,\"type\":\"line\",\"x0\":9,\"x1\":8,\"y0\":29,\"y1\":9},{\"line\":{\"color\":\"rgb(0, 0, 0)\"},\"opacity\":0.09,\"type\":\"line\",\"x0\":9,\"x1\":0,\"y0\":29,\"y1\":10},{\"line\":{\"color\":\"rgb(0, 0, 0)\"},\"opacity\":0.09,\"type\":\"line\",\"x0\":9,\"x1\":8,\"y0\":29,\"y1\":22},{\"line\":{\"color\":\"rgb(0, 0, 0)\"},\"opacity\":0.09,\"type\":\"line\",\"x0\":4,\"x1\":9,\"y0\":15,\"y1\":29},{\"line\":{\"color\":\"rgb(0, 0, 0)\"},\"opacity\":0.09,\"type\":\"line\",\"x0\":4,\"x1\":4,\"y0\":15,\"y1\":15},{\"line\":{\"color\":\"rgb(0, 0, 0)\"},\"opacity\":0.09,\"type\":\"line\",\"x0\":4,\"x1\":0,\"y0\":15,\"y1\":17},{\"line\":{\"color\":\"rgb(0, 0, 0)\"},\"opacity\":0.09,\"type\":\"line\",\"x0\":4,\"x1\":27,\"y0\":15,\"y1\":28},{\"line\":{\"color\":\"rgb(0, 0, 0)\"},\"opacity\":0.09,\"type\":\"line\",\"x0\":4,\"x1\":25,\"y0\":15,\"y1\":29},{\"line\":{\"color\":\"rgb(0, 0, 0)\"},\"opacity\":0.09,\"type\":\"line\",\"x0\":4,\"x1\":16,\"y0\":15,\"y1\":29},{\"line\":{\"color\":\"rgb(0, 0, 0)\"},\"opacity\":0.09,\"type\":\"line\",\"x0\":4,\"x1\":17,\"y0\":15,\"y1\":26},{\"line\":{\"color\":\"rgb(0, 0, 0)\"},\"opacity\":0.09,\"type\":\"line\",\"x0\":4,\"x1\":8,\"y0\":15,\"y1\":9},{\"line\":{\"color\":\"rgb(0, 0, 0)\"},\"opacity\":0.09,\"type\":\"line\",\"x0\":4,\"x1\":0,\"y0\":15,\"y1\":10},{\"line\":{\"color\":\"rgb(0, 0, 0)\"},\"opacity\":0.09,\"type\":\"line\",\"x0\":4,\"x1\":8,\"y0\":15,\"y1\":22},{\"line\":{\"color\":\"rgb(0, 0, 0)\"},\"opacity\":0.09,\"type\":\"line\",\"x0\":0,\"x1\":9,\"y0\":17,\"y1\":29},{\"line\":{\"color\":\"rgb(0, 0, 0)\"},\"opacity\":0.09,\"type\":\"line\",\"x0\":0,\"x1\":4,\"y0\":17,\"y1\":15},{\"line\":{\"color\":\"rgb(0, 0, 0)\"},\"opacity\":0.09,\"type\":\"line\",\"x0\":0,\"x1\":0,\"y0\":17,\"y1\":17},{\"line\":{\"color\":\"rgb(0, 0, 0)\"},\"opacity\":0.09,\"type\":\"line\",\"x0\":0,\"x1\":27,\"y0\":17,\"y1\":28},{\"line\":{\"color\":\"rgb(0, 0, 0)\"},\"opacity\":0.09,\"type\":\"line\",\"x0\":0,\"x1\":25,\"y0\":17,\"y1\":29},{\"line\":{\"color\":\"rgb(0, 0, 0)\"},\"opacity\":0.09,\"type\":\"line\",\"x0\":0,\"x1\":16,\"y0\":17,\"y1\":29},{\"line\":{\"color\":\"rgb(0, 0, 0)\"},\"opacity\":0.09,\"type\":\"line\",\"x0\":0,\"x1\":17,\"y0\":17,\"y1\":26},{\"line\":{\"color\":\"rgb(0, 0, 0)\"},\"opacity\":0.09,\"type\":\"line\",\"x0\":0,\"x1\":8,\"y0\":17,\"y1\":9},{\"line\":{\"color\":\"rgb(0, 0, 0)\"},\"opacity\":0.09,\"type\":\"line\",\"x0\":0,\"x1\":0,\"y0\":17,\"y1\":10},{\"line\":{\"color\":\"rgb(0, 0, 0)\"},\"opacity\":0.09,\"type\":\"line\",\"x0\":0,\"x1\":8,\"y0\":17,\"y1\":22},{\"line\":{\"color\":\"rgb(0, 0, 0)\"},\"opacity\":0.09,\"type\":\"line\",\"x0\":27,\"x1\":9,\"y0\":28,\"y1\":29},{\"line\":{\"color\":\"rgb(0, 0, 0)\"},\"opacity\":0.09,\"type\":\"line\",\"x0\":27,\"x1\":4,\"y0\":28,\"y1\":15},{\"line\":{\"color\":\"rgb(0, 0, 0)\"},\"opacity\":0.09,\"type\":\"line\",\"x0\":27,\"x1\":0,\"y0\":28,\"y1\":17},{\"line\":{\"color\":\"rgb(0, 0, 0)\"},\"opacity\":0.09,\"type\":\"line\",\"x0\":27,\"x1\":27,\"y0\":28,\"y1\":28},{\"line\":{\"color\":\"rgb(0, 0, 0)\"},\"opacity\":0.09,\"type\":\"line\",\"x0\":27,\"x1\":25,\"y0\":28,\"y1\":29},{\"line\":{\"color\":\"rgb(0, 0, 0)\"},\"opacity\":0.09,\"type\":\"line\",\"x0\":27,\"x1\":16,\"y0\":28,\"y1\":29},{\"line\":{\"color\":\"rgb(0, 0, 0)\"},\"opacity\":0.09,\"type\":\"line\",\"x0\":27,\"x1\":17,\"y0\":28,\"y1\":26},{\"line\":{\"color\":\"rgb(0, 0, 0)\"},\"opacity\":0.09,\"type\":\"line\",\"x0\":27,\"x1\":8,\"y0\":28,\"y1\":9},{\"line\":{\"color\":\"rgb(0, 0, 0)\"},\"opacity\":0.09,\"type\":\"line\",\"x0\":27,\"x1\":0,\"y0\":28,\"y1\":10},{\"line\":{\"color\":\"rgb(0, 0, 0)\"},\"opacity\":0.09,\"type\":\"line\",\"x0\":27,\"x1\":8,\"y0\":28,\"y1\":22},{\"line\":{\"color\":\"rgb(0, 0, 0)\"},\"opacity\":0.09,\"type\":\"line\",\"x0\":25,\"x1\":9,\"y0\":29,\"y1\":29},{\"line\":{\"color\":\"rgb(0, 0, 0)\"},\"opacity\":0.09,\"type\":\"line\",\"x0\":25,\"x1\":4,\"y0\":29,\"y1\":15},{\"line\":{\"color\":\"rgb(0, 0, 0)\"},\"opacity\":0.09,\"type\":\"line\",\"x0\":25,\"x1\":0,\"y0\":29,\"y1\":17},{\"line\":{\"color\":\"rgb(0, 0, 0)\"},\"opacity\":0.09,\"type\":\"line\",\"x0\":25,\"x1\":27,\"y0\":29,\"y1\":28},{\"line\":{\"color\":\"rgb(0, 0, 0)\"},\"opacity\":0.09,\"type\":\"line\",\"x0\":25,\"x1\":25,\"y0\":29,\"y1\":29},{\"line\":{\"color\":\"rgb(0, 0, 0)\"},\"opacity\":0.09,\"type\":\"line\",\"x0\":25,\"x1\":16,\"y0\":29,\"y1\":29},{\"line\":{\"color\":\"rgb(0, 0, 0)\"},\"opacity\":0.09,\"type\":\"line\",\"x0\":25,\"x1\":17,\"y0\":29,\"y1\":26},{\"line\":{\"color\":\"rgb(0, 0, 0)\"},\"opacity\":0.09,\"type\":\"line\",\"x0\":25,\"x1\":8,\"y0\":29,\"y1\":9},{\"line\":{\"color\":\"rgb(0, 0, 0)\"},\"opacity\":0.09,\"type\":\"line\",\"x0\":25,\"x1\":0,\"y0\":29,\"y1\":10},{\"line\":{\"color\":\"rgb(0, 0, 0)\"},\"opacity\":0.09,\"type\":\"line\",\"x0\":25,\"x1\":8,\"y0\":29,\"y1\":22},{\"line\":{\"color\":\"rgb(0, 0, 0)\"},\"opacity\":0.09,\"type\":\"line\",\"x0\":16,\"x1\":9,\"y0\":29,\"y1\":29},{\"line\":{\"color\":\"rgb(0, 0, 0)\"},\"opacity\":0.09,\"type\":\"line\",\"x0\":16,\"x1\":4,\"y0\":29,\"y1\":15},{\"line\":{\"color\":\"rgb(0, 0, 0)\"},\"opacity\":0.09,\"type\":\"line\",\"x0\":16,\"x1\":0,\"y0\":29,\"y1\":17},{\"line\":{\"color\":\"rgb(0, 0, 0)\"},\"opacity\":0.09,\"type\":\"line\",\"x0\":16,\"x1\":27,\"y0\":29,\"y1\":28},{\"line\":{\"color\":\"rgb(0, 0, 0)\"},\"opacity\":0.09,\"type\":\"line\",\"x0\":16,\"x1\":25,\"y0\":29,\"y1\":29},{\"line\":{\"color\":\"rgb(0, 0, 0)\"},\"opacity\":0.09,\"type\":\"line\",\"x0\":16,\"x1\":16,\"y0\":29,\"y1\":29},{\"line\":{\"color\":\"rgb(0, 0, 0)\"},\"opacity\":0.09,\"type\":\"line\",\"x0\":16,\"x1\":17,\"y0\":29,\"y1\":26},{\"line\":{\"color\":\"rgb(0, 0, 0)\"},\"opacity\":0.09,\"type\":\"line\",\"x0\":16,\"x1\":8,\"y0\":29,\"y1\":9},{\"line\":{\"color\":\"rgb(0, 0, 0)\"},\"opacity\":0.09,\"type\":\"line\",\"x0\":16,\"x1\":0,\"y0\":29,\"y1\":10},{\"line\":{\"color\":\"rgb(0, 0, 0)\"},\"opacity\":0.09,\"type\":\"line\",\"x0\":16,\"x1\":8,\"y0\":29,\"y1\":22},{\"line\":{\"color\":\"rgb(0, 0, 0)\"},\"opacity\":0.09,\"type\":\"line\",\"x0\":17,\"x1\":9,\"y0\":26,\"y1\":29},{\"line\":{\"color\":\"rgb(0, 0, 0)\"},\"opacity\":0.09,\"type\":\"line\",\"x0\":17,\"x1\":4,\"y0\":26,\"y1\":15},{\"line\":{\"color\":\"rgb(0, 0, 0)\"},\"opacity\":0.09,\"type\":\"line\",\"x0\":17,\"x1\":0,\"y0\":26,\"y1\":17},{\"line\":{\"color\":\"rgb(0, 0, 0)\"},\"opacity\":0.09,\"type\":\"line\",\"x0\":17,\"x1\":27,\"y0\":26,\"y1\":28},{\"line\":{\"color\":\"rgb(0, 0, 0)\"},\"opacity\":0.09,\"type\":\"line\",\"x0\":17,\"x1\":25,\"y0\":26,\"y1\":29},{\"line\":{\"color\":\"rgb(0, 0, 0)\"},\"opacity\":0.09,\"type\":\"line\",\"x0\":17,\"x1\":16,\"y0\":26,\"y1\":29},{\"line\":{\"color\":\"rgb(0, 0, 0)\"},\"opacity\":0.09,\"type\":\"line\",\"x0\":17,\"x1\":17,\"y0\":26,\"y1\":26},{\"line\":{\"color\":\"rgb(0, 0, 0)\"},\"opacity\":0.09,\"type\":\"line\",\"x0\":17,\"x1\":8,\"y0\":26,\"y1\":9},{\"line\":{\"color\":\"rgb(0, 0, 0)\"},\"opacity\":0.09,\"type\":\"line\",\"x0\":17,\"x1\":0,\"y0\":26,\"y1\":10},{\"line\":{\"color\":\"rgb(0, 0, 0)\"},\"opacity\":0.09,\"type\":\"line\",\"x0\":17,\"x1\":8,\"y0\":26,\"y1\":22},{\"line\":{\"color\":\"rgb(0, 0, 0)\"},\"opacity\":0.09,\"type\":\"line\",\"x0\":8,\"x1\":9,\"y0\":9,\"y1\":29},{\"line\":{\"color\":\"rgb(0, 0, 0)\"},\"opacity\":0.09,\"type\":\"line\",\"x0\":8,\"x1\":4,\"y0\":9,\"y1\":15},{\"line\":{\"color\":\"rgb(0, 0, 0)\"},\"opacity\":0.09,\"type\":\"line\",\"x0\":8,\"x1\":0,\"y0\":9,\"y1\":17},{\"line\":{\"color\":\"rgb(0, 0, 0)\"},\"opacity\":0.09,\"type\":\"line\",\"x0\":8,\"x1\":27,\"y0\":9,\"y1\":28},{\"line\":{\"color\":\"rgb(0, 0, 0)\"},\"opacity\":0.09,\"type\":\"line\",\"x0\":8,\"x1\":25,\"y0\":9,\"y1\":29},{\"line\":{\"color\":\"rgb(0, 0, 0)\"},\"opacity\":0.09,\"type\":\"line\",\"x0\":8,\"x1\":16,\"y0\":9,\"y1\":29},{\"line\":{\"color\":\"rgb(0, 0, 0)\"},\"opacity\":0.09,\"type\":\"line\",\"x0\":8,\"x1\":17,\"y0\":9,\"y1\":26},{\"line\":{\"color\":\"rgb(0, 0, 0)\"},\"opacity\":0.09,\"type\":\"line\",\"x0\":8,\"x1\":8,\"y0\":9,\"y1\":9},{\"line\":{\"color\":\"rgb(0, 0, 0)\"},\"opacity\":0.09,\"type\":\"line\",\"x0\":8,\"x1\":0,\"y0\":9,\"y1\":10},{\"line\":{\"color\":\"rgb(0, 0, 0)\"},\"opacity\":0.09,\"type\":\"line\",\"x0\":8,\"x1\":8,\"y0\":9,\"y1\":22},{\"line\":{\"color\":\"rgb(0, 0, 0)\"},\"opacity\":0.09,\"type\":\"line\",\"x0\":0,\"x1\":9,\"y0\":10,\"y1\":29},{\"line\":{\"color\":\"rgb(0, 0, 0)\"},\"opacity\":0.09,\"type\":\"line\",\"x0\":0,\"x1\":4,\"y0\":10,\"y1\":15},{\"line\":{\"color\":\"rgb(0, 0, 0)\"},\"opacity\":0.09,\"type\":\"line\",\"x0\":0,\"x1\":0,\"y0\":10,\"y1\":17},{\"line\":{\"color\":\"rgb(0, 0, 0)\"},\"opacity\":0.09,\"type\":\"line\",\"x0\":0,\"x1\":27,\"y0\":10,\"y1\":28},{\"line\":{\"color\":\"rgb(0, 0, 0)\"},\"opacity\":0.09,\"type\":\"line\",\"x0\":0,\"x1\":25,\"y0\":10,\"y1\":29},{\"line\":{\"color\":\"rgb(0, 0, 0)\"},\"opacity\":0.09,\"type\":\"line\",\"x0\":0,\"x1\":16,\"y0\":10,\"y1\":29},{\"line\":{\"color\":\"rgb(0, 0, 0)\"},\"opacity\":0.09,\"type\":\"line\",\"x0\":0,\"x1\":17,\"y0\":10,\"y1\":26},{\"line\":{\"color\":\"rgb(0, 0, 0)\"},\"opacity\":0.09,\"type\":\"line\",\"x0\":0,\"x1\":8,\"y0\":10,\"y1\":9},{\"line\":{\"color\":\"rgb(0, 0, 0)\"},\"opacity\":0.09,\"type\":\"line\",\"x0\":0,\"x1\":0,\"y0\":10,\"y1\":10},{\"line\":{\"color\":\"rgb(0, 0, 0)\"},\"opacity\":0.09,\"type\":\"line\",\"x0\":0,\"x1\":8,\"y0\":10,\"y1\":22},{\"line\":{\"color\":\"rgb(0, 0, 0)\"},\"opacity\":0.09,\"type\":\"line\",\"x0\":8,\"x1\":9,\"y0\":22,\"y1\":29},{\"line\":{\"color\":\"rgb(0, 0, 0)\"},\"opacity\":0.09,\"type\":\"line\",\"x0\":8,\"x1\":4,\"y0\":22,\"y1\":15},{\"line\":{\"color\":\"rgb(0, 0, 0)\"},\"opacity\":0.09,\"type\":\"line\",\"x0\":8,\"x1\":0,\"y0\":22,\"y1\":17},{\"line\":{\"color\":\"rgb(0, 0, 0)\"},\"opacity\":0.09,\"type\":\"line\",\"x0\":8,\"x1\":27,\"y0\":22,\"y1\":28},{\"line\":{\"color\":\"rgb(0, 0, 0)\"},\"opacity\":0.09,\"type\":\"line\",\"x0\":8,\"x1\":25,\"y0\":22,\"y1\":29},{\"line\":{\"color\":\"rgb(0, 0, 0)\"},\"opacity\":0.09,\"type\":\"line\",\"x0\":8,\"x1\":16,\"y0\":22,\"y1\":29},{\"line\":{\"color\":\"rgb(0, 0, 0)\"},\"opacity\":0.09,\"type\":\"line\",\"x0\":8,\"x1\":17,\"y0\":22,\"y1\":26},{\"line\":{\"color\":\"rgb(0, 0, 0)\"},\"opacity\":0.09,\"type\":\"line\",\"x0\":8,\"x1\":8,\"y0\":22,\"y1\":9},{\"line\":{\"color\":\"rgb(0, 0, 0)\"},\"opacity\":0.09,\"type\":\"line\",\"x0\":8,\"x1\":0,\"y0\":22,\"y1\":10},{\"line\":{\"color\":\"rgb(0, 0, 0)\"},\"opacity\":0.09,\"type\":\"line\",\"x0\":8,\"x1\":8,\"y0\":22,\"y1\":22}],\"showlegend\":false,\"template\":{\"data\":{\"bar\":[{\"error_x\":{\"color\":\"#2a3f5f\"},\"error_y\":{\"color\":\"#2a3f5f\"},\"marker\":{\"line\":{\"color\":\"white\",\"width\":0.5},\"pattern\":{\"fillmode\":\"overlay\",\"size\":10,\"solidity\":0.2}},\"type\":\"bar\"}],\"barpolar\":[{\"marker\":{\"line\":{\"color\":\"white\",\"width\":0.5},\"pattern\":{\"fillmode\":\"overlay\",\"size\":10,\"solidity\":0.2}},\"type\":\"barpolar\"}],\"carpet\":[{\"aaxis\":{\"endlinecolor\":\"#2a3f5f\",\"gridcolor\":\"#C8D4E3\",\"linecolor\":\"#C8D4E3\",\"minorgridcolor\":\"#C8D4E3\",\"startlinecolor\":\"#2a3f5f\"},\"baxis\":{\"endlinecolor\":\"#2a3f5f\",\"gridcolor\":\"#C8D4E3\",\"linecolor\":\"#C8D4E3\",\"minorgridcolor\":\"#C8D4E3\",\"startlinecolor\":\"#2a3f5f\"},\"type\":\"carpet\"}],\"choropleth\":[{\"colorbar\":{\"outlinewidth\":0,\"ticks\":\"\"},\"type\":\"choropleth\"}],\"contour\":[{\"colorbar\":{\"outlinewidth\":0,\"ticks\":\"\"},\"colorscale\":[[0.0,\"#0d0887\"],[0.1111111111111111,\"#46039f\"],[0.2222222222222222,\"#7201a8\"],[0.3333333333333333,\"#9c179e\"],[0.4444444444444444,\"#bd3786\"],[0.5555555555555556,\"#d8576b\"],[0.6666666666666666,\"#ed7953\"],[0.7777777777777778,\"#fb9f3a\"],[0.8888888888888888,\"#fdca26\"],[1.0,\"#f0f921\"]],\"type\":\"contour\"}],\"contourcarpet\":[{\"colorbar\":{\"outlinewidth\":0,\"ticks\":\"\"},\"type\":\"contourcarpet\"}],\"heatmap\":[{\"colorbar\":{\"outlinewidth\":0,\"ticks\":\"\"},\"colorscale\":[[0.0,\"#0d0887\"],[0.1111111111111111,\"#46039f\"],[0.2222222222222222,\"#7201a8\"],[0.3333333333333333,\"#9c179e\"],[0.4444444444444444,\"#bd3786\"],[0.5555555555555556,\"#d8576b\"],[0.6666666666666666,\"#ed7953\"],[0.7777777777777778,\"#fb9f3a\"],[0.8888888888888888,\"#fdca26\"],[1.0,\"#f0f921\"]],\"type\":\"heatmap\"}],\"heatmapgl\":[{\"colorbar\":{\"outlinewidth\":0,\"ticks\":\"\"},\"colorscale\":[[0.0,\"#0d0887\"],[0.1111111111111111,\"#46039f\"],[0.2222222222222222,\"#7201a8\"],[0.3333333333333333,\"#9c179e\"],[0.4444444444444444,\"#bd3786\"],[0.5555555555555556,\"#d8576b\"],[0.6666666666666666,\"#ed7953\"],[0.7777777777777778,\"#fb9f3a\"],[0.8888888888888888,\"#fdca26\"],[1.0,\"#f0f921\"]],\"type\":\"heatmapgl\"}],\"histogram\":[{\"marker\":{\"pattern\":{\"fillmode\":\"overlay\",\"size\":10,\"solidity\":0.2}},\"type\":\"histogram\"}],\"histogram2d\":[{\"colorbar\":{\"outlinewidth\":0,\"ticks\":\"\"},\"colorscale\":[[0.0,\"#0d0887\"],[0.1111111111111111,\"#46039f\"],[0.2222222222222222,\"#7201a8\"],[0.3333333333333333,\"#9c179e\"],[0.4444444444444444,\"#bd3786\"],[0.5555555555555556,\"#d8576b\"],[0.6666666666666666,\"#ed7953\"],[0.7777777777777778,\"#fb9f3a\"],[0.8888888888888888,\"#fdca26\"],[1.0,\"#f0f921\"]],\"type\":\"histogram2d\"}],\"histogram2dcontour\":[{\"colorbar\":{\"outlinewidth\":0,\"ticks\":\"\"},\"colorscale\":[[0.0,\"#0d0887\"],[0.1111111111111111,\"#46039f\"],[0.2222222222222222,\"#7201a8\"],[0.3333333333333333,\"#9c179e\"],[0.4444444444444444,\"#bd3786\"],[0.5555555555555556,\"#d8576b\"],[0.6666666666666666,\"#ed7953\"],[0.7777777777777778,\"#fb9f3a\"],[0.8888888888888888,\"#fdca26\"],[1.0,\"#f0f921\"]],\"type\":\"histogram2dcontour\"}],\"mesh3d\":[{\"colorbar\":{\"outlinewidth\":0,\"ticks\":\"\"},\"type\":\"mesh3d\"}],\"parcoords\":[{\"line\":{\"colorbar\":{\"outlinewidth\":0,\"ticks\":\"\"}},\"type\":\"parcoords\"}],\"pie\":[{\"automargin\":true,\"type\":\"pie\"}],\"scatter\":[{\"marker\":{\"colorbar\":{\"outlinewidth\":0,\"ticks\":\"\"}},\"type\":\"scatter\"}],\"scatter3d\":[{\"line\":{\"colorbar\":{\"outlinewidth\":0,\"ticks\":\"\"}},\"marker\":{\"colorbar\":{\"outlinewidth\":0,\"ticks\":\"\"}},\"type\":\"scatter3d\"}],\"scattercarpet\":[{\"marker\":{\"colorbar\":{\"outlinewidth\":0,\"ticks\":\"\"}},\"type\":\"scattercarpet\"}],\"scattergeo\":[{\"marker\":{\"colorbar\":{\"outlinewidth\":0,\"ticks\":\"\"}},\"type\":\"scattergeo\"}],\"scattergl\":[{\"marker\":{\"colorbar\":{\"outlinewidth\":0,\"ticks\":\"\"}},\"type\":\"scattergl\"}],\"scattermapbox\":[{\"marker\":{\"colorbar\":{\"outlinewidth\":0,\"ticks\":\"\"}},\"type\":\"scattermapbox\"}],\"scatterpolar\":[{\"marker\":{\"colorbar\":{\"outlinewidth\":0,\"ticks\":\"\"}},\"type\":\"scatterpolar\"}],\"scatterpolargl\":[{\"marker\":{\"colorbar\":{\"outlinewidth\":0,\"ticks\":\"\"}},\"type\":\"scatterpolargl\"}],\"scatterternary\":[{\"marker\":{\"colorbar\":{\"outlinewidth\":0,\"ticks\":\"\"}},\"type\":\"scatterternary\"}],\"surface\":[{\"colorbar\":{\"outlinewidth\":0,\"ticks\":\"\"},\"colorscale\":[[0.0,\"#0d0887\"],[0.1111111111111111,\"#46039f\"],[0.2222222222222222,\"#7201a8\"],[0.3333333333333333,\"#9c179e\"],[0.4444444444444444,\"#bd3786\"],[0.5555555555555556,\"#d8576b\"],[0.6666666666666666,\"#ed7953\"],[0.7777777777777778,\"#fb9f3a\"],[0.8888888888888888,\"#fdca26\"],[1.0,\"#f0f921\"]],\"type\":\"surface\"}],\"table\":[{\"cells\":{\"fill\":{\"color\":\"#EBF0F8\"},\"line\":{\"color\":\"white\"}},\"header\":{\"fill\":{\"color\":\"#C8D4E3\"},\"line\":{\"color\":\"white\"}},\"type\":\"table\"}]},\"layout\":{\"annotationdefaults\":{\"arrowcolor\":\"#2a3f5f\",\"arrowhead\":0,\"arrowwidth\":1},\"autotypenumbers\":\"strict\",\"coloraxis\":{\"colorbar\":{\"outlinewidth\":0,\"ticks\":\"\"}},\"colorscale\":{\"diverging\":[[0,\"#8e0152\"],[0.1,\"#c51b7d\"],[0.2,\"#de77ae\"],[0.3,\"#f1b6da\"],[0.4,\"#fde0ef\"],[0.5,\"#f7f7f7\"],[0.6,\"#e6f5d0\"],[0.7,\"#b8e186\"],[0.8,\"#7fbc41\"],[0.9,\"#4d9221\"],[1,\"#276419\"]],\"sequential\":[[0.0,\"#0d0887\"],[0.1111111111111111,\"#46039f\"],[0.2222222222222222,\"#7201a8\"],[0.3333333333333333,\"#9c179e\"],[0.4444444444444444,\"#bd3786\"],[0.5555555555555556,\"#d8576b\"],[0.6666666666666666,\"#ed7953\"],[0.7777777777777778,\"#fb9f3a\"],[0.8888888888888888,\"#fdca26\"],[1.0,\"#f0f921\"]],\"sequentialminus\":[[0.0,\"#0d0887\"],[0.1111111111111111,\"#46039f\"],[0.2222222222222222,\"#7201a8\"],[0.3333333333333333,\"#9c179e\"],[0.4444444444444444,\"#bd3786\"],[0.5555555555555556,\"#d8576b\"],[0.6666666666666666,\"#ed7953\"],[0.7777777777777778,\"#fb9f3a\"],[0.8888888888888888,\"#fdca26\"],[1.0,\"#f0f921\"]]},\"colorway\":[\"#636efa\",\"#EF553B\",\"#00cc96\",\"#ab63fa\",\"#FFA15A\",\"#19d3f3\",\"#FF6692\",\"#B6E880\",\"#FF97FF\",\"#FECB52\"],\"font\":{\"color\":\"#2a3f5f\"},\"geo\":{\"bgcolor\":\"white\",\"lakecolor\":\"white\",\"landcolor\":\"white\",\"showlakes\":true,\"showland\":true,\"subunitcolor\":\"#C8D4E3\"},\"hoverlabel\":{\"align\":\"left\"},\"hovermode\":\"closest\",\"mapbox\":{\"style\":\"light\"},\"paper_bgcolor\":\"white\",\"plot_bgcolor\":\"white\",\"polar\":{\"angularaxis\":{\"gridcolor\":\"#EBF0F8\",\"linecolor\":\"#EBF0F8\",\"ticks\":\"\"},\"bgcolor\":\"white\",\"radialaxis\":{\"gridcolor\":\"#EBF0F8\",\"linecolor\":\"#EBF0F8\",\"ticks\":\"\"}},\"scene\":{\"xaxis\":{\"backgroundcolor\":\"white\",\"gridcolor\":\"#DFE8F3\",\"gridwidth\":2,\"linecolor\":\"#EBF0F8\",\"showbackground\":true,\"ticks\":\"\",\"zerolinecolor\":\"#EBF0F8\"},\"yaxis\":{\"backgroundcolor\":\"white\",\"gridcolor\":\"#DFE8F3\",\"gridwidth\":2,\"linecolor\":\"#EBF0F8\",\"showbackground\":true,\"ticks\":\"\",\"zerolinecolor\":\"#EBF0F8\"},\"zaxis\":{\"backgroundcolor\":\"white\",\"gridcolor\":\"#DFE8F3\",\"gridwidth\":2,\"linecolor\":\"#EBF0F8\",\"showbackground\":true,\"ticks\":\"\",\"zerolinecolor\":\"#EBF0F8\"}},\"shapedefaults\":{\"line\":{\"color\":\"#2a3f5f\"}},\"ternary\":{\"aaxis\":{\"gridcolor\":\"#DFE8F3\",\"linecolor\":\"#A2B1C6\",\"ticks\":\"\"},\"baxis\":{\"gridcolor\":\"#DFE8F3\",\"linecolor\":\"#A2B1C6\",\"ticks\":\"\"},\"bgcolor\":\"white\",\"caxis\":{\"gridcolor\":\"#DFE8F3\",\"linecolor\":\"#A2B1C6\",\"ticks\":\"\"}},\"title\":{\"x\":0.05},\"xaxis\":{\"automargin\":true,\"gridcolor\":\"#EBF0F8\",\"linecolor\":\"#EBF0F8\",\"ticks\":\"\",\"title\":{\"standoff\":15},\"zerolinecolor\":\"#EBF0F8\",\"zerolinewidth\":2},\"yaxis\":{\"automargin\":true,\"gridcolor\":\"#EBF0F8\",\"linecolor\":\"#EBF0F8\",\"ticks\":\"\",\"title\":{\"standoff\":15},\"zerolinecolor\":\"#EBF0F8\",\"zerolinewidth\":2}}},\"uniformtext\":{\"minsize\":8,\"mode\":\"hide\"},\"xaxis\":{\"anchor\":\"y\",\"domain\":[0.0,1.0],\"title\":{\"text\":\"x\"}},\"yaxis\":{\"anchor\":\"x\",\"domain\":[0.0,1.0],\"title\":{\"text\":\"y\"}}},                        {\"responsive\": true}                    ).then(function(){\n",
              "                            \n",
              "var gd = document.getElementById('90dc4d61-57b5-4b93-969f-52e4dfb3ee67');\n",
              "var x = new MutationObserver(function (mutations, observer) {{\n",
              "        var display = window.getComputedStyle(gd).display;\n",
              "        if (!display || display === 'none') {{\n",
              "            console.log([gd, 'removed!']);\n",
              "            Plotly.purge(gd);\n",
              "            observer.disconnect();\n",
              "        }}\n",
              "}});\n",
              "\n",
              "// Listen for the removal of the full notebook cells\n",
              "var notebookContainer = gd.closest('#notebook-container');\n",
              "if (notebookContainer) {{\n",
              "    x.observe(notebookContainer, {childList: true});\n",
              "}}\n",
              "\n",
              "// Listen for the clearing of the current output cell\n",
              "var outputEl = gd.closest('.output');\n",
              "if (outputEl) {{\n",
              "    x.observe(outputEl, {childList: true});\n",
              "}}\n",
              "\n",
              "                        })                };                            </script>        </div>\n",
              "</body>\n",
              "</html>"
            ]
          },
          "metadata": {}
        }
      ]
    },
    {
      "cell_type": "markdown",
      "metadata": {
        "id": "0xRnmV6S5g6a"
      },
      "source": [
        "# TSP con programación lineal"
      ]
    },
    {
      "cell_type": "markdown",
      "metadata": {
        "id": "r1W3Lf7G5loM"
      },
      "source": [
        "Considere $n$ puntos, $V = \\left\\{0, 1, \\dots, n-1 \\right\\}$, y la matriz de distancia $D_{n\\times n}$ con entradas $c_{i, j} \\in \\mathbb{R^+}$. La solución es un conjunto de $n$ pares de puntos indicando la ciudad de salida y ciudad de llegada. Considerando las restricciones que se mencionaron al inicio, tenemos que\n",
        "\n",
        "Minimizar:\n",
        "$$\\sum_{i\\in V, j\\in V} c_{i, j}x_{i, j}$$\n",
        "Sujeto a:\n",
        "\\begin{align}\n",
        "\\sum_{i\\in V\\setminus \\{j\\}} x_{i, j} = 1 && \\forall j \\in V \\\\\n",
        "\\sum_{j\\in V\\setminus \\{i\\}} x_{i, j} = 1 && \\forall i \\in V \\\\\n",
        "y_i - (n+1)x_{i, j} \\geq y_j - n && \\forall i \\in V \\setminus \\{0\\}, j\\in V\\setminus \\{0, i\\} \\\\\n",
        "x_{i, j} \\in \\{0, 1\\} && \\forall i\\in V, j \\in V \\\\\n",
        "y_i \\geq 0 && \\forall i \\in V\n",
        "\\end{align}\n"
      ]
    },
    {
      "cell_type": "code",
      "metadata": {
        "colab": {
          "base_uri": "https://localhost:8080/"
        },
        "id": "qi7wIe6QXxN0",
        "outputId": "38555b3b-b388-4aff-fd50-0a2e27a1a495"
      },
      "source": [
        "# Número de nodos y vértices\n",
        "n, V = len(points), set(range(len(points)))\n",
        "print(f'Número de nodos:\\tn = {n}\\nVértices:\\tV = {V}')"
      ],
      "execution_count": null,
      "outputs": [
        {
          "output_type": "stream",
          "name": "stdout",
          "text": [
            "Número de nodos:\tn = 10\n",
            "Vértices:\tV = {0, 1, 2, 3, 4, 5, 6, 7, 8, 9}\n"
          ]
        }
      ]
    },
    {
      "cell_type": "code",
      "metadata": {
        "id": "XAxDjOJZXzST"
      },
      "source": [
        "model = Model()\n",
        "\n",
        "# Variables binarias que indican si se toma el camino de la ciudad i a la j\n",
        "x = [[model.add_var(var_type=BINARY) for j in V] for i in V]\n",
        "\n",
        "# Variables continuas para evitar subrutas\n",
        "y = [model.add_var() for i in V]"
      ],
      "execution_count": null,
      "outputs": []
    },
    {
      "cell_type": "markdown",
      "metadata": {
        "id": "FgF0eoZFAhDo"
      },
      "source": [
        "$$\\sum_{i\\in V, j\\in V} c_{i, j}x_{i, j}$$\n"
      ]
    },
    {
      "cell_type": "code",
      "metadata": {
        "id": "pPC4JFo-_9B3"
      },
      "source": [
        "# Función objetivo: \n",
        "model.objective = minimize(xsum(c[i][j]*x[i][j] for i in V for j in V))"
      ],
      "execution_count": null,
      "outputs": []
    },
    {
      "cell_type": "markdown",
      "metadata": {
        "id": "N6LNXjn8A3xj"
      },
      "source": [
        "$$\\sum_{j\\in V\\setminus \\{i\\}} x_{i, j} = 1 \\text{, } \\forall i \\in V$$"
      ]
    },
    {
      "cell_type": "code",
      "metadata": {
        "id": "ROs_e4P9__Vv"
      },
      "source": [
        "# Restricción : Sal de cada ciudad una única vez\n",
        "for i in V:\n",
        "    model += xsum(x[i][j] for j in V - {i}) == 1"
      ],
      "execution_count": null,
      "outputs": []
    },
    {
      "cell_type": "markdown",
      "metadata": {
        "id": "eyG_IucKAjLf"
      },
      "source": [
        "$$\\sum_{i\\in V\\setminus \\{j\\}} x_{i, j} = 1 \\text{, } \\forall j \\in V$$"
      ]
    },
    {
      "cell_type": "code",
      "metadata": {
        "id": "OTaKu8GdAA9g"
      },
      "source": [
        "# Restricción : Entra a cada ciudad una única vez\n",
        "for i in V:\n",
        "    model += xsum(x[j][i] for j in V - {i}) == 1"
      ],
      "execution_count": null,
      "outputs": []
    },
    {
      "cell_type": "markdown",
      "metadata": {
        "id": "sy6IPGajB22Z"
      },
      "source": [
        "$$y_i - (n+1)x_{i, j} \\geq y_j - n \\text{, } \\forall i \\in V \\setminus \\{0\\}, j\\in V\\setminus \\{0, i\\}$$"
      ]
    },
    {
      "cell_type": "code",
      "metadata": {
        "id": "Iakx3SpIACpL"
      },
      "source": [
        "# Elimina subrutas\n",
        "for (i, j) in product(V - {0}, V - {0}):\n",
        "    if i != j:\n",
        "        model += y[i] - (n+1)*x[i][j] >= y[j]-n"
      ],
      "execution_count": null,
      "outputs": []
    },
    {
      "cell_type": "code",
      "metadata": {
        "colab": {
          "base_uri": "https://localhost:8080/"
        },
        "id": "s8FQC88QAECs",
        "outputId": "150ba216-8383-4635-cdce-8674c808e70e"
      },
      "source": [
        "# Optimizar\n",
        "model.optimize()\n",
        "\n",
        "# Revisar si se encontró una solución\n",
        "edges = []\n",
        "if model.num_solutions:\n",
        "    print('Ruta con distancia total %g encontrada: %s'\n",
        "              % (model.objective_value, points.index[0]))\n",
        "    nc = 0 # Indice de la ciudad actual\n",
        "    while True:\n",
        "        oc = nc \n",
        "        nc = [i for i in V if x[nc][i].x >= 0.99][0] # Indice de la ciudad a la que se siguió\n",
        "        edges.append((oc, nc)) # Guardamos el camino a tomar\n",
        "        print(' -> %s' % points.index[nc]) # Imprimimos el siguiente paso de la ruta\n",
        "        if nc == 0:  # Si regresa al inicio terminamos el ciclo\n",
        "            break\n",
        "    print('\\n')"
      ],
      "execution_count": null,
      "outputs": [
        {
          "output_type": "stream",
          "name": "stdout",
          "text": [
            "Ruta con distancia total 82.3372 encontrada: ciudad_0\n",
            " -> ciudad_5\n",
            " -> ciudad_4\n",
            " -> ciudad_3\n",
            " -> ciudad_6\n",
            " -> ciudad_7\n",
            " -> ciudad_8\n",
            " -> ciudad_2\n",
            " -> ciudad_1\n",
            " -> ciudad_9\n",
            " -> ciudad_0\n",
            "\n",
            "\n"
          ]
        }
      ]
    },
    {
      "cell_type": "code",
      "metadata": {
        "colab": {
          "base_uri": "https://localhost:8080/",
          "height": 542
        },
        "id": "o1ZP922Azyrh",
        "outputId": "4182ca5f-f60d-4742-9033-2a1643aaeb3c"
      },
      "source": [
        "plot_cities_and_route(points, edges)"
      ],
      "execution_count": null,
      "outputs": [
        {
          "output_type": "display_data",
          "data": {
            "text/html": [
              "<html>\n",
              "<head><meta charset=\"utf-8\" /></head>\n",
              "<body>\n",
              "    <div>            <script src=\"https://cdnjs.cloudflare.com/ajax/libs/mathjax/2.7.5/MathJax.js?config=TeX-AMS-MML_SVG\"></script><script type=\"text/javascript\">if (window.MathJax) {MathJax.Hub.Config({SVG: {font: \"STIX-Web\"}});}</script>                <script type=\"text/javascript\">window.PlotlyConfig = {MathJaxConfig: 'local'};</script>\n",
              "        <script src=\"https://cdn.plot.ly/plotly-2.4.2.min.js\"></script>                <div id=\"aac1cc40-4608-44e9-8d42-5e16eb7aa7e3\" class=\"plotly-graph-div\" style=\"height:525px; width:100%;\"></div>            <script type=\"text/javascript\">                                    window.PLOTLYENV=window.PLOTLYENV || {};                                    if (document.getElementById(\"aac1cc40-4608-44e9-8d42-5e16eb7aa7e3\")) {                    Plotly.newPlot(                        \"aac1cc40-4608-44e9-8d42-5e16eb7aa7e3\",                        [{\"hovertemplate\":\"<b>%{hovertext}</b><br><br>x=%{x}<br>y=%{y}<extra></extra>\",\"hovertext\":[\"ciudad_0\",\"ciudad_1\",\"ciudad_2\",\"ciudad_3\",\"ciudad_4\",\"ciudad_5\",\"ciudad_6\",\"ciudad_7\",\"ciudad_8\",\"ciudad_9\"],\"legendgroup\":\"\",\"marker\":{\"color\":\"#636efa\",\"line\":{\"color\":\"DarkSlateGrey\",\"width\":2},\"size\":15,\"symbol\":\"circle\"},\"mode\":\"markers\",\"name\":\"\",\"orientation\":\"v\",\"showlegend\":false,\"textposition\":\"top right\",\"texttemplate\":\"%{text:.2s}\",\"type\":\"scatter\",\"x\":[9,4,0,27,25,16,17,8,0,8],\"xaxis\":\"x\",\"y\":[29,15,17,28,29,29,26,9,10,22],\"yaxis\":\"y\"},{\"mode\":\"text\",\"text\":[\"7.0\"],\"textposition\":\"top right\",\"texttemplate\":\"%{text:.2s}\",\"type\":\"scatter\",\"x\":[12.5],\"y\":[29.0]},{\"mode\":\"text\",\"text\":[\"9.0\"],\"textposition\":\"top right\",\"texttemplate\":\"%{text:.2s}\",\"type\":\"scatter\",\"x\":[20.5],\"y\":[29.0]},{\"mode\":\"text\",\"text\":[\"2.23606797749979\"],\"textposition\":\"top right\",\"texttemplate\":\"%{text:.2s}\",\"type\":\"scatter\",\"x\":[26.0],\"y\":[28.5]},{\"mode\":\"text\",\"text\":[\"10.198039027185569\"],\"textposition\":\"top right\",\"texttemplate\":\"%{text:.2s}\",\"type\":\"scatter\",\"x\":[22.0],\"y\":[27.0]},{\"mode\":\"text\",\"text\":[\"19.235384061671343\"],\"textposition\":\"top right\",\"texttemplate\":\"%{text:.2s}\",\"type\":\"scatter\",\"x\":[12.5],\"y\":[17.5]},{\"mode\":\"text\",\"text\":[\"8.06225774829855\"],\"textposition\":\"top right\",\"texttemplate\":\"%{text:.2s}\",\"type\":\"scatter\",\"x\":[4.0],\"y\":[9.5]},{\"mode\":\"text\",\"text\":[\"7.0\"],\"textposition\":\"top right\",\"texttemplate\":\"%{text:.2s}\",\"type\":\"scatter\",\"x\":[0.0],\"y\":[13.5]},{\"mode\":\"text\",\"text\":[\"4.47213595499958\"],\"textposition\":\"top right\",\"texttemplate\":\"%{text:.2s}\",\"type\":\"scatter\",\"x\":[2.0],\"y\":[16.0]},{\"mode\":\"text\",\"text\":[\"8.06225774829855\"],\"textposition\":\"top right\",\"texttemplate\":\"%{text:.2s}\",\"type\":\"scatter\",\"x\":[6.0],\"y\":[18.5]},{\"mode\":\"text\",\"text\":[\"7.0710678118654755\"],\"textposition\":\"top right\",\"texttemplate\":\"%{text:.2s}\",\"type\":\"scatter\",\"x\":[8.5],\"y\":[25.5]}],                        {\"legend\":{\"tracegroupgap\":0},\"margin\":{\"t\":60},\"shapes\":[{\"line\":{\"color\":\"rgb(0, 0, 0)\"},\"opacity\":0.09,\"type\":\"line\",\"x0\":9,\"x1\":16,\"y0\":29,\"y1\":29},{\"line\":{\"color\":\"rgb(0, 0, 0)\"},\"opacity\":0.09,\"type\":\"line\",\"x0\":16,\"x1\":25,\"y0\":29,\"y1\":29},{\"line\":{\"color\":\"rgb(0, 0, 0)\"},\"opacity\":0.09,\"type\":\"line\",\"x0\":25,\"x1\":27,\"y0\":29,\"y1\":28},{\"line\":{\"color\":\"rgb(0, 0, 0)\"},\"opacity\":0.09,\"type\":\"line\",\"x0\":27,\"x1\":17,\"y0\":28,\"y1\":26},{\"line\":{\"color\":\"rgb(0, 0, 0)\"},\"opacity\":0.09,\"type\":\"line\",\"x0\":17,\"x1\":8,\"y0\":26,\"y1\":9},{\"line\":{\"color\":\"rgb(0, 0, 0)\"},\"opacity\":0.09,\"type\":\"line\",\"x0\":8,\"x1\":0,\"y0\":9,\"y1\":10},{\"line\":{\"color\":\"rgb(0, 0, 0)\"},\"opacity\":0.09,\"type\":\"line\",\"x0\":0,\"x1\":0,\"y0\":10,\"y1\":17},{\"line\":{\"color\":\"rgb(0, 0, 0)\"},\"opacity\":0.09,\"type\":\"line\",\"x0\":0,\"x1\":4,\"y0\":17,\"y1\":15},{\"line\":{\"color\":\"rgb(0, 0, 0)\"},\"opacity\":0.09,\"type\":\"line\",\"x0\":4,\"x1\":8,\"y0\":15,\"y1\":22},{\"line\":{\"color\":\"rgb(0, 0, 0)\"},\"opacity\":0.09,\"type\":\"line\",\"x0\":8,\"x1\":9,\"y0\":22,\"y1\":29}],\"showlegend\":false,\"template\":{\"data\":{\"bar\":[{\"error_x\":{\"color\":\"#2a3f5f\"},\"error_y\":{\"color\":\"#2a3f5f\"},\"marker\":{\"line\":{\"color\":\"white\",\"width\":0.5},\"pattern\":{\"fillmode\":\"overlay\",\"size\":10,\"solidity\":0.2}},\"type\":\"bar\"}],\"barpolar\":[{\"marker\":{\"line\":{\"color\":\"white\",\"width\":0.5},\"pattern\":{\"fillmode\":\"overlay\",\"size\":10,\"solidity\":0.2}},\"type\":\"barpolar\"}],\"carpet\":[{\"aaxis\":{\"endlinecolor\":\"#2a3f5f\",\"gridcolor\":\"#C8D4E3\",\"linecolor\":\"#C8D4E3\",\"minorgridcolor\":\"#C8D4E3\",\"startlinecolor\":\"#2a3f5f\"},\"baxis\":{\"endlinecolor\":\"#2a3f5f\",\"gridcolor\":\"#C8D4E3\",\"linecolor\":\"#C8D4E3\",\"minorgridcolor\":\"#C8D4E3\",\"startlinecolor\":\"#2a3f5f\"},\"type\":\"carpet\"}],\"choropleth\":[{\"colorbar\":{\"outlinewidth\":0,\"ticks\":\"\"},\"type\":\"choropleth\"}],\"contour\":[{\"colorbar\":{\"outlinewidth\":0,\"ticks\":\"\"},\"colorscale\":[[0.0,\"#0d0887\"],[0.1111111111111111,\"#46039f\"],[0.2222222222222222,\"#7201a8\"],[0.3333333333333333,\"#9c179e\"],[0.4444444444444444,\"#bd3786\"],[0.5555555555555556,\"#d8576b\"],[0.6666666666666666,\"#ed7953\"],[0.7777777777777778,\"#fb9f3a\"],[0.8888888888888888,\"#fdca26\"],[1.0,\"#f0f921\"]],\"type\":\"contour\"}],\"contourcarpet\":[{\"colorbar\":{\"outlinewidth\":0,\"ticks\":\"\"},\"type\":\"contourcarpet\"}],\"heatmap\":[{\"colorbar\":{\"outlinewidth\":0,\"ticks\":\"\"},\"colorscale\":[[0.0,\"#0d0887\"],[0.1111111111111111,\"#46039f\"],[0.2222222222222222,\"#7201a8\"],[0.3333333333333333,\"#9c179e\"],[0.4444444444444444,\"#bd3786\"],[0.5555555555555556,\"#d8576b\"],[0.6666666666666666,\"#ed7953\"],[0.7777777777777778,\"#fb9f3a\"],[0.8888888888888888,\"#fdca26\"],[1.0,\"#f0f921\"]],\"type\":\"heatmap\"}],\"heatmapgl\":[{\"colorbar\":{\"outlinewidth\":0,\"ticks\":\"\"},\"colorscale\":[[0.0,\"#0d0887\"],[0.1111111111111111,\"#46039f\"],[0.2222222222222222,\"#7201a8\"],[0.3333333333333333,\"#9c179e\"],[0.4444444444444444,\"#bd3786\"],[0.5555555555555556,\"#d8576b\"],[0.6666666666666666,\"#ed7953\"],[0.7777777777777778,\"#fb9f3a\"],[0.8888888888888888,\"#fdca26\"],[1.0,\"#f0f921\"]],\"type\":\"heatmapgl\"}],\"histogram\":[{\"marker\":{\"pattern\":{\"fillmode\":\"overlay\",\"size\":10,\"solidity\":0.2}},\"type\":\"histogram\"}],\"histogram2d\":[{\"colorbar\":{\"outlinewidth\":0,\"ticks\":\"\"},\"colorscale\":[[0.0,\"#0d0887\"],[0.1111111111111111,\"#46039f\"],[0.2222222222222222,\"#7201a8\"],[0.3333333333333333,\"#9c179e\"],[0.4444444444444444,\"#bd3786\"],[0.5555555555555556,\"#d8576b\"],[0.6666666666666666,\"#ed7953\"],[0.7777777777777778,\"#fb9f3a\"],[0.8888888888888888,\"#fdca26\"],[1.0,\"#f0f921\"]],\"type\":\"histogram2d\"}],\"histogram2dcontour\":[{\"colorbar\":{\"outlinewidth\":0,\"ticks\":\"\"},\"colorscale\":[[0.0,\"#0d0887\"],[0.1111111111111111,\"#46039f\"],[0.2222222222222222,\"#7201a8\"],[0.3333333333333333,\"#9c179e\"],[0.4444444444444444,\"#bd3786\"],[0.5555555555555556,\"#d8576b\"],[0.6666666666666666,\"#ed7953\"],[0.7777777777777778,\"#fb9f3a\"],[0.8888888888888888,\"#fdca26\"],[1.0,\"#f0f921\"]],\"type\":\"histogram2dcontour\"}],\"mesh3d\":[{\"colorbar\":{\"outlinewidth\":0,\"ticks\":\"\"},\"type\":\"mesh3d\"}],\"parcoords\":[{\"line\":{\"colorbar\":{\"outlinewidth\":0,\"ticks\":\"\"}},\"type\":\"parcoords\"}],\"pie\":[{\"automargin\":true,\"type\":\"pie\"}],\"scatter\":[{\"marker\":{\"colorbar\":{\"outlinewidth\":0,\"ticks\":\"\"}},\"type\":\"scatter\"}],\"scatter3d\":[{\"line\":{\"colorbar\":{\"outlinewidth\":0,\"ticks\":\"\"}},\"marker\":{\"colorbar\":{\"outlinewidth\":0,\"ticks\":\"\"}},\"type\":\"scatter3d\"}],\"scattercarpet\":[{\"marker\":{\"colorbar\":{\"outlinewidth\":0,\"ticks\":\"\"}},\"type\":\"scattercarpet\"}],\"scattergeo\":[{\"marker\":{\"colorbar\":{\"outlinewidth\":0,\"ticks\":\"\"}},\"type\":\"scattergeo\"}],\"scattergl\":[{\"marker\":{\"colorbar\":{\"outlinewidth\":0,\"ticks\":\"\"}},\"type\":\"scattergl\"}],\"scattermapbox\":[{\"marker\":{\"colorbar\":{\"outlinewidth\":0,\"ticks\":\"\"}},\"type\":\"scattermapbox\"}],\"scatterpolar\":[{\"marker\":{\"colorbar\":{\"outlinewidth\":0,\"ticks\":\"\"}},\"type\":\"scatterpolar\"}],\"scatterpolargl\":[{\"marker\":{\"colorbar\":{\"outlinewidth\":0,\"ticks\":\"\"}},\"type\":\"scatterpolargl\"}],\"scatterternary\":[{\"marker\":{\"colorbar\":{\"outlinewidth\":0,\"ticks\":\"\"}},\"type\":\"scatterternary\"}],\"surface\":[{\"colorbar\":{\"outlinewidth\":0,\"ticks\":\"\"},\"colorscale\":[[0.0,\"#0d0887\"],[0.1111111111111111,\"#46039f\"],[0.2222222222222222,\"#7201a8\"],[0.3333333333333333,\"#9c179e\"],[0.4444444444444444,\"#bd3786\"],[0.5555555555555556,\"#d8576b\"],[0.6666666666666666,\"#ed7953\"],[0.7777777777777778,\"#fb9f3a\"],[0.8888888888888888,\"#fdca26\"],[1.0,\"#f0f921\"]],\"type\":\"surface\"}],\"table\":[{\"cells\":{\"fill\":{\"color\":\"#EBF0F8\"},\"line\":{\"color\":\"white\"}},\"header\":{\"fill\":{\"color\":\"#C8D4E3\"},\"line\":{\"color\":\"white\"}},\"type\":\"table\"}]},\"layout\":{\"annotationdefaults\":{\"arrowcolor\":\"#2a3f5f\",\"arrowhead\":0,\"arrowwidth\":1},\"autotypenumbers\":\"strict\",\"coloraxis\":{\"colorbar\":{\"outlinewidth\":0,\"ticks\":\"\"}},\"colorscale\":{\"diverging\":[[0,\"#8e0152\"],[0.1,\"#c51b7d\"],[0.2,\"#de77ae\"],[0.3,\"#f1b6da\"],[0.4,\"#fde0ef\"],[0.5,\"#f7f7f7\"],[0.6,\"#e6f5d0\"],[0.7,\"#b8e186\"],[0.8,\"#7fbc41\"],[0.9,\"#4d9221\"],[1,\"#276419\"]],\"sequential\":[[0.0,\"#0d0887\"],[0.1111111111111111,\"#46039f\"],[0.2222222222222222,\"#7201a8\"],[0.3333333333333333,\"#9c179e\"],[0.4444444444444444,\"#bd3786\"],[0.5555555555555556,\"#d8576b\"],[0.6666666666666666,\"#ed7953\"],[0.7777777777777778,\"#fb9f3a\"],[0.8888888888888888,\"#fdca26\"],[1.0,\"#f0f921\"]],\"sequentialminus\":[[0.0,\"#0d0887\"],[0.1111111111111111,\"#46039f\"],[0.2222222222222222,\"#7201a8\"],[0.3333333333333333,\"#9c179e\"],[0.4444444444444444,\"#bd3786\"],[0.5555555555555556,\"#d8576b\"],[0.6666666666666666,\"#ed7953\"],[0.7777777777777778,\"#fb9f3a\"],[0.8888888888888888,\"#fdca26\"],[1.0,\"#f0f921\"]]},\"colorway\":[\"#636efa\",\"#EF553B\",\"#00cc96\",\"#ab63fa\",\"#FFA15A\",\"#19d3f3\",\"#FF6692\",\"#B6E880\",\"#FF97FF\",\"#FECB52\"],\"font\":{\"color\":\"#2a3f5f\"},\"geo\":{\"bgcolor\":\"white\",\"lakecolor\":\"white\",\"landcolor\":\"white\",\"showlakes\":true,\"showland\":true,\"subunitcolor\":\"#C8D4E3\"},\"hoverlabel\":{\"align\":\"left\"},\"hovermode\":\"closest\",\"mapbox\":{\"style\":\"light\"},\"paper_bgcolor\":\"white\",\"plot_bgcolor\":\"white\",\"polar\":{\"angularaxis\":{\"gridcolor\":\"#EBF0F8\",\"linecolor\":\"#EBF0F8\",\"ticks\":\"\"},\"bgcolor\":\"white\",\"radialaxis\":{\"gridcolor\":\"#EBF0F8\",\"linecolor\":\"#EBF0F8\",\"ticks\":\"\"}},\"scene\":{\"xaxis\":{\"backgroundcolor\":\"white\",\"gridcolor\":\"#DFE8F3\",\"gridwidth\":2,\"linecolor\":\"#EBF0F8\",\"showbackground\":true,\"ticks\":\"\",\"zerolinecolor\":\"#EBF0F8\"},\"yaxis\":{\"backgroundcolor\":\"white\",\"gridcolor\":\"#DFE8F3\",\"gridwidth\":2,\"linecolor\":\"#EBF0F8\",\"showbackground\":true,\"ticks\":\"\",\"zerolinecolor\":\"#EBF0F8\"},\"zaxis\":{\"backgroundcolor\":\"white\",\"gridcolor\":\"#DFE8F3\",\"gridwidth\":2,\"linecolor\":\"#EBF0F8\",\"showbackground\":true,\"ticks\":\"\",\"zerolinecolor\":\"#EBF0F8\"}},\"shapedefaults\":{\"line\":{\"color\":\"#2a3f5f\"}},\"ternary\":{\"aaxis\":{\"gridcolor\":\"#DFE8F3\",\"linecolor\":\"#A2B1C6\",\"ticks\":\"\"},\"baxis\":{\"gridcolor\":\"#DFE8F3\",\"linecolor\":\"#A2B1C6\",\"ticks\":\"\"},\"bgcolor\":\"white\",\"caxis\":{\"gridcolor\":\"#DFE8F3\",\"linecolor\":\"#A2B1C6\",\"ticks\":\"\"}},\"title\":{\"x\":0.05},\"xaxis\":{\"automargin\":true,\"gridcolor\":\"#EBF0F8\",\"linecolor\":\"#EBF0F8\",\"ticks\":\"\",\"title\":{\"standoff\":15},\"zerolinecolor\":\"#EBF0F8\",\"zerolinewidth\":2},\"yaxis\":{\"automargin\":true,\"gridcolor\":\"#EBF0F8\",\"linecolor\":\"#EBF0F8\",\"ticks\":\"\",\"title\":{\"standoff\":15},\"zerolinecolor\":\"#EBF0F8\",\"zerolinewidth\":2}}},\"uniformtext\":{\"minsize\":8,\"mode\":\"hide\"},\"xaxis\":{\"anchor\":\"y\",\"domain\":[0.0,1.0],\"title\":{\"text\":\"x\"}},\"yaxis\":{\"anchor\":\"x\",\"domain\":[0.0,1.0],\"title\":{\"text\":\"y\"}}},                        {\"responsive\": true}                    ).then(function(){\n",
              "                            \n",
              "var gd = document.getElementById('aac1cc40-4608-44e9-8d42-5e16eb7aa7e3');\n",
              "var x = new MutationObserver(function (mutations, observer) {{\n",
              "        var display = window.getComputedStyle(gd).display;\n",
              "        if (!display || display === 'none') {{\n",
              "            console.log([gd, 'removed!']);\n",
              "            Plotly.purge(gd);\n",
              "            observer.disconnect();\n",
              "        }}\n",
              "}});\n",
              "\n",
              "// Listen for the removal of the full notebook cells\n",
              "var notebookContainer = gd.closest('#notebook-container');\n",
              "if (notebookContainer) {{\n",
              "    x.observe(notebookContainer, {childList: true});\n",
              "}}\n",
              "\n",
              "// Listen for the clearing of the current output cell\n",
              "var outputEl = gd.closest('.output');\n",
              "if (outputEl) {{\n",
              "    x.observe(outputEl, {childList: true});\n",
              "}}\n",
              "\n",
              "                        })                };                            </script>        </div>\n",
              "</body>\n",
              "</html>"
            ]
          },
          "metadata": {}
        }
      ]
    }
  ]
}