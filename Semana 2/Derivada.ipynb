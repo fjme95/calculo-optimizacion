{
  "nbformat": 4,
  "nbformat_minor": 0,
  "metadata": {
    "colab": {
      "name": "Derivada.ipynb",
      "provenance": [],
      "collapsed_sections": [],
      "authorship_tag": "ABX9TyNujtwhr+xC0jh4jIxiupgn",
      "include_colab_link": true
    },
    "kernelspec": {
      "name": "python3",
      "display_name": "Python 3"
    },
    "language_info": {
      "name": "python"
    }
  },
  "cells": [
    {
      "cell_type": "markdown",
      "metadata": {
        "id": "view-in-github",
        "colab_type": "text"
      },
      "source": [
        "<a href=\"https://colab.research.google.com/github/fjme95/calculo-optimizacion/blob/main/Semana%202/Derivada.ipynb\" target=\"_parent\"><img src=\"https://colab.research.google.com/assets/colab-badge.svg\" alt=\"Open In Colab\"/></a>"
      ]
    },
    {
      "cell_type": "markdown",
      "metadata": {
        "id": "T_5475og8tE1"
      },
      "source": [
        "## Objetivo"
      ]
    },
    {
      "cell_type": "markdown",
      "metadata": {
        "id": "s6MULV_a8vJr"
      },
      "source": [
        "1. Derivar funciones en python usando la definición de límite.\n",
        "2. Dar una breve introducción a [sympy](https://www.sympy.org/en/index.html).\n",
        "3. Obtener la matriz Jacobiana ocupando sympy\n",
        "4. Obtener la matriz Hessiana ocupando sympy\n"
      ]
    },
    {
      "cell_type": "markdown",
      "metadata": {
        "id": "G6Gahdrx8s_q"
      },
      "source": [
        "# Introducción"
      ]
    },
    {
      "cell_type": "markdown",
      "metadata": {
        "id": "lWxVLQqS46IH"
      },
      "source": [
        "Definición: La función $f$ es **diferenciable en a** si el $$lim_{h\\rightarrow 0} \\frac{f(a+ h) - f(a)}{h}.$$\n",
        "En este caso, dicho límite se representa mediante **$f'(a)$** y se denomina **la derivada de f en a**. \n",
        "\n",
        "También, $f$ es **diferenciable** si $f$ es diferenciable en $a$ para todo $a$ en el dominio de $f$. (Michael Spivak. (2012). Derivadas e integrales. En Calculus(151). Barcelona: Reverté.)"
      ]
    },
    {
      "cell_type": "code",
      "metadata": {
        "id": "n9CiM1zX4aUP"
      },
      "source": [
        "def derivada(func, a, h = 1e-7):\n",
        "    return (func(a + h) - func(a))/h"
      ],
      "execution_count": 1,
      "outputs": []
    },
    {
      "cell_type": "markdown",
      "metadata": {
        "id": "G_RNoZjrBCTW"
      },
      "source": [
        "# Ejemplos\n",
        "\n",
        "Para cada ejemplo, se dará la función, $f$, y su derivada, $f'$, para evaluar la derivada en algún punto arbitrario en su soporte. "
      ]
    },
    {
      "cell_type": "code",
      "metadata": {
        "id": "V72EJi5WCj-V"
      },
      "source": [
        "import numpy as np"
      ],
      "execution_count": 2,
      "outputs": []
    },
    {
      "cell_type": "markdown",
      "metadata": {
        "id": "KH9loslZBFAs"
      },
      "source": [
        "1. Sea $f(x) = x^2$, su derivada es $f'(x) = 2x$.\n",
        "\n"
      ]
    },
    {
      "cell_type": "code",
      "metadata": {
        "colab": {
          "base_uri": "https://localhost:8080/"
        },
        "id": "QGh53yhb86JY",
        "outputId": "4fcfe705-cbf3-4eaf-840e-2da2ccbc7f8a"
      },
      "source": [
        "a = 3\n",
        "aprox = derivada(lambda x: x**2, a)\n",
        "real = 2*a\n",
        "print(f'Aproximación: {aprox}')\n",
        "print(f\"Real: {real}\\n\")\n",
        "print(f'Diferencia: {np.abs(real - aprox)}')"
      ],
      "execution_count": 3,
      "outputs": [
        {
          "output_type": "stream",
          "name": "stdout",
          "text": [
            "Aproximación: 6.000000087880153\n",
            "Real: 6\n",
            "\n",
            "Diferencia: 8.788015293248463e-08\n"
          ]
        }
      ]
    },
    {
      "cell_type": "code",
      "metadata": {
        "id": "kCmdFSLHCghn"
      },
      "source": [
        "def compara_derivada(func, derivative, a):\n",
        "    aprox = derivada(func, a)\n",
        "    real = derivative(a)\n",
        "    print(f'Aproximación: {aprox}')\n",
        "    print(f\"Real: {real}\\n\")\n",
        "    print(f'Diferencia: {np.abs(real - aprox)}')"
      ],
      "execution_count": 4,
      "outputs": []
    },
    {
      "cell_type": "markdown",
      "metadata": {
        "id": "IFfbrmNCBWUY"
      },
      "source": [
        "2. Sea $f(x) = x^3$, su derivada es $f'(x) = 3x^2$."
      ]
    },
    {
      "cell_type": "code",
      "metadata": {
        "colab": {
          "base_uri": "https://localhost:8080/"
        },
        "id": "96FagbV9ESCa",
        "outputId": "6d1e1e9a-55db-458d-e244-b3f5ef0b826e"
      },
      "source": [
        "compara_derivada(lambda x: x**3, lambda x: 3*x**2, 3)"
      ],
      "execution_count": 5,
      "outputs": [
        {
          "output_type": "stream",
          "name": "stdout",
          "text": [
            "Aproximación: 27.000000848431682\n",
            "Real: 27\n",
            "\n",
            "Diferencia: 8.484316822432447e-07\n"
          ]
        }
      ]
    },
    {
      "cell_type": "markdown",
      "metadata": {
        "id": "FgoqHzIWCUmG"
      },
      "source": [
        "3. Sea $f(x) = sin(x)$, su derivada es $f'(x) = cos(x)$."
      ]
    },
    {
      "cell_type": "code",
      "metadata": {
        "colab": {
          "base_uri": "https://localhost:8080/"
        },
        "id": "po10m8_xCM0N",
        "outputId": "70acf228-e049-411b-bb79-123e7a6921b5"
      },
      "source": [
        "compara_derivada(lambda x: np.sin(x), lambda x: np.cos(x), 3)"
      ],
      "execution_count": 6,
      "outputs": [
        {
          "output_type": "stream",
          "name": "stdout",
          "text": [
            "Aproximación: -0.9899925018652667\n",
            "Real: -0.9899924966004454\n",
            "\n",
            "Diferencia: 5.264821245631879e-09\n"
          ]
        }
      ]
    },
    {
      "cell_type": "markdown",
      "metadata": {
        "id": "DDL-LPmdVg0b"
      },
      "source": [
        "# Sympy"
      ]
    },
    {
      "cell_type": "markdown",
      "metadata": {
        "id": "B9CRofk0Vi6X"
      },
      "source": [
        "Es una libreria para álgebra computacional escrita completamente en python."
      ]
    },
    {
      "cell_type": "markdown",
      "metadata": {
        "id": "9g2EI50hWnCL"
      },
      "source": [
        "Para los ejemplos que vimos en la sección pasada, podemos calcular su derivada y evaluarla en diferentes puntos porque el resultado que tendremos será un función, no un escalar."
      ]
    },
    {
      "cell_type": "code",
      "metadata": {
        "id": "r4H0UsMpX4g1"
      },
      "source": [
        "from sympy import symbols, diff, lambdify"
      ],
      "execution_count": 7,
      "outputs": []
    },
    {
      "cell_type": "code",
      "metadata": {
        "colab": {
          "base_uri": "https://localhost:8080/",
          "height": 38
        },
        "id": "Ovu0Lw2OXbSu",
        "outputId": "6692d4a8-642a-48ff-c0fc-d09771830d2e"
      },
      "source": [
        "# Definimos las variables que vamos a ocupar\n",
        "x = symbols('x')\n",
        "f = x**2\n",
        "f"
      ],
      "execution_count": 8,
      "outputs": [
        {
          "output_type": "execute_result",
          "data": {
            "text/latex": "$\\displaystyle x^{2}$",
            "text/plain": [
              "x**2"
            ]
          },
          "metadata": {},
          "execution_count": 8
        }
      ]
    },
    {
      "cell_type": "code",
      "metadata": {
        "colab": {
          "base_uri": "https://localhost:8080/",
          "height": 38
        },
        "id": "TSt00Pg3XusI",
        "outputId": "d15a05fc-ec17-4956-b4d6-1c62dd9ca614"
      },
      "source": [
        "f_prima = diff(f)\n",
        "f_prima"
      ],
      "execution_count": 9,
      "outputs": [
        {
          "output_type": "execute_result",
          "data": {
            "text/latex": "$\\displaystyle 2 x$",
            "text/plain": [
              "2*x"
            ]
          },
          "metadata": {},
          "execution_count": 9
        }
      ]
    },
    {
      "cell_type": "markdown",
      "metadata": {
        "id": "eGWpEO-hYGfv"
      },
      "source": [
        "Para evaluar las funciones (expresiones), ocupamos la función [```subs```](https://docs.sympy.org/latest/tutorial/basic_operations.html#substitution) o la función [```evalf```](https://docs.sympy.org/latest/tutorial/basic_operations.html#evalf). La segunda es para que el resultado sea un valor de punto flotante."
      ]
    },
    {
      "cell_type": "code",
      "metadata": {
        "colab": {
          "base_uri": "https://localhost:8080/",
          "height": 55
        },
        "id": "nOAD3F40ZW2y",
        "outputId": "4fbe78b3-40a9-4f32-9f67-4f6f451f466d"
      },
      "source": [
        "res = f_prima.subs(x, 3)\n",
        "print(type(res))\n",
        "res"
      ],
      "execution_count": 10,
      "outputs": [
        {
          "output_type": "stream",
          "name": "stdout",
          "text": [
            "<class 'sympy.core.numbers.Integer'>\n"
          ]
        },
        {
          "output_type": "execute_result",
          "data": {
            "text/latex": "$\\displaystyle 6$",
            "text/plain": [
              "6"
            ]
          },
          "metadata": {},
          "execution_count": 10
        }
      ]
    },
    {
      "cell_type": "code",
      "metadata": {
        "colab": {
          "base_uri": "https://localhost:8080/",
          "height": 55
        },
        "id": "L7jsknwgZhUB",
        "outputId": "c7169e36-9f2f-410a-e9aa-7889cfde69da"
      },
      "source": [
        "res = f_prima.evalf(subs = {x: 3})\n",
        "print(type(res))\n",
        "res"
      ],
      "execution_count": 11,
      "outputs": [
        {
          "output_type": "stream",
          "name": "stdout",
          "text": [
            "<class 'sympy.core.numbers.Float'>\n"
          ]
        },
        {
          "output_type": "execute_result",
          "data": {
            "text/latex": "$\\displaystyle 6.0$",
            "text/plain": [
              "6.00000000000000"
            ]
          },
          "metadata": {},
          "execution_count": 11
        }
      ]
    },
    {
      "cell_type": "code",
      "metadata": {
        "colab": {
          "base_uri": "https://localhost:8080/"
        },
        "id": "xIbRHJpSaD8p",
        "outputId": "a974b887-5ef1-46e6-f873-3333a5101b8e"
      },
      "source": [
        "func = lambdify(x, f_prima, \"math\")\n",
        "print(type(func(3)))\n",
        "func(3)"
      ],
      "execution_count": 12,
      "outputs": [
        {
          "output_type": "stream",
          "name": "stdout",
          "text": [
            "<class 'int'>\n"
          ]
        },
        {
          "output_type": "execute_result",
          "data": {
            "text/plain": [
              "6"
            ]
          },
          "metadata": {},
          "execution_count": 12
        }
      ]
    },
    {
      "cell_type": "markdown",
      "metadata": {
        "id": "ts-FJQmFfkzY"
      },
      "source": [
        "# Gradiente\n"
      ]
    },
    {
      "cell_type": "markdown",
      "metadata": {
        "id": "MPcvVVjPfn_d"
      },
      "source": [
        "Para $f : \\mathbb{R}^n \\to \\mathbb{R}$, su **gradiente**, $\\nabla f: \\mathbb{R}^n \\to \\mathbb{R}^n$, está definido en el punto $p = (x_1, \\dots, x_n)$ como el vector (columna):\n",
        "\n",
        "\\begin{align}\n",
        "\\nabla f(p) = \\left[\n",
        "    \\begin{matrix}\n",
        "    \\frac{\\partial f}{\\partial x_1}(p) \\\\\n",
        "    \\vdots \\\\\n",
        "    \\frac{\\partial f}{\\partial x_n}(p)\n",
        "    \\end{matrix}\n",
        "    \\right]\n",
        "\\end{align}"
      ]
    },
    {
      "cell_type": "markdown",
      "metadata": {
        "id": "-42x-6_PjhID"
      },
      "source": [
        "Sea $g(x, y) = \\frac{x}{y}$. Su gradiente es \n",
        "\n",
        "\\begin{align}\n",
        "    \\nabla g = \\left[\n",
        "        \\begin{matrix}\n",
        "        \\frac{\\partial g}{\\partial x} \\\\\n",
        "        \\frac{\\partial g}{\\partial y}\n",
        "        \\end{matrix}\n",
        "        \\right] = \\left[\n",
        "        \\begin{matrix}\n",
        "        \\frac{1}{y} \\\\\n",
        "        -\\frac{x}{y^2}\n",
        "        \\end{matrix}\n",
        "        \\right]\n",
        "\\end{align}"
      ]
    },
    {
      "cell_type": "code",
      "metadata": {
        "id": "PNj03dcqfqYd"
      },
      "source": [
        "f = lambda x, y: x/y"
      ],
      "execution_count": 13,
      "outputs": []
    },
    {
      "cell_type": "markdown",
      "metadata": {
        "id": "uSU9TpAIm80h"
      },
      "source": [
        "Evaluaremos el gradiente en el punto $(1, 2)$."
      ]
    },
    {
      "cell_type": "code",
      "metadata": {
        "id": "tXild1m4l8v4"
      },
      "source": [
        "a = 1\n",
        "b = 2\n",
        "\n",
        "fx = lambda x: x/b\n",
        "fy = lambda y: a/y\n",
        "grad = np.zeros((2, 1))"
      ],
      "execution_count": 14,
      "outputs": []
    },
    {
      "cell_type": "code",
      "metadata": {
        "colab": {
          "base_uri": "https://localhost:8080/"
        },
        "id": "BSS-6RN9nfgK",
        "outputId": "63c78b28-e10b-43e4-9013-3f1b7a11a20c"
      },
      "source": [
        "grad[0] = derivada(fx, a)\n",
        "grad[1] = derivada(fy, b)\n",
        "grad"
      ],
      "execution_count": 15,
      "outputs": [
        {
          "output_type": "execute_result",
          "data": {
            "text/plain": [
              "array([[ 0.5       ],\n",
              "       [-0.24999999]])"
            ]
          },
          "metadata": {},
          "execution_count": 15
        }
      ]
    },
    {
      "cell_type": "markdown",
      "metadata": {
        "id": "Pw3OlJOvoxSx"
      },
      "source": [
        "Ahora, lo haremos con ```sympy```"
      ]
    },
    {
      "cell_type": "code",
      "metadata": {
        "id": "qs3EBppNozYI"
      },
      "source": [
        "x, y = symbols('x y')\n",
        "f = x/y"
      ],
      "execution_count": 16,
      "outputs": []
    },
    {
      "cell_type": "code",
      "metadata": {
        "colab": {
          "base_uri": "https://localhost:8080/",
          "height": 62
        },
        "id": "Zo36hSN2o7Dm",
        "outputId": "dc19d61b-620f-4419-8df1-f15e0a65e4c2"
      },
      "source": [
        "from sympy import Matrix\n",
        "grad = Matrix([f.diff(x), f.diff(y)])\n",
        "grad"
      ],
      "execution_count": 17,
      "outputs": [
        {
          "output_type": "execute_result",
          "data": {
            "text/latex": "$\\displaystyle \\left[\\begin{matrix}\\frac{1}{y}\\\\- \\frac{x}{y^{2}}\\end{matrix}\\right]$",
            "text/plain": [
              "Matrix([\n",
              "[    1/y],\n",
              "[-x/y**2]])"
            ]
          },
          "metadata": {},
          "execution_count": 17
        }
      ]
    },
    {
      "cell_type": "code",
      "metadata": {
        "colab": {
          "base_uri": "https://localhost:8080/",
          "height": 58
        },
        "id": "PMj2zqmzpd3-",
        "outputId": "eae39ed0-c89c-4710-c7b1-dd1f9691bacc"
      },
      "source": [
        "grad.subs([(x, a), (y, b)])"
      ],
      "execution_count": 18,
      "outputs": [
        {
          "output_type": "execute_result",
          "data": {
            "text/latex": "$\\displaystyle \\left[\\begin{matrix}\\frac{1}{2}\\\\- \\frac{1}{4}\\end{matrix}\\right]$",
            "text/plain": [
              "Matrix([\n",
              "[ 1/2],\n",
              "[-1/4]])"
            ]
          },
          "metadata": {},
          "execution_count": 18
        }
      ]
    },
    {
      "cell_type": "code",
      "metadata": {
        "colab": {
          "base_uri": "https://localhost:8080/",
          "height": 58
        },
        "id": "U1hcyG-mpv_T",
        "outputId": "4d60bcfb-0585-4aa4-850a-21f959367aa9"
      },
      "source": [
        "grad.evalf(subs = {x: a, y: b})"
      ],
      "execution_count": 19,
      "outputs": [
        {
          "output_type": "execute_result",
          "data": {
            "text/latex": "$\\displaystyle \\left[\\begin{matrix}0.5\\\\-0.25\\end{matrix}\\right]$",
            "text/plain": [
              "Matrix([\n",
              "[  0.5],\n",
              "[-0.25]])"
            ]
          },
          "metadata": {},
          "execution_count": 19
        }
      ]
    },
    {
      "cell_type": "code",
      "metadata": {
        "colab": {
          "base_uri": "https://localhost:8080/",
          "height": 62
        },
        "id": "ZbcgKt_6wy_U",
        "outputId": "02dbaae2-f258-4a37-e491-f8af047094b0"
      },
      "source": [
        "X = [x, y]\n",
        "Matrix([f.diff(var) for var in X])"
      ],
      "execution_count": 20,
      "outputs": [
        {
          "output_type": "execute_result",
          "data": {
            "text/latex": "$\\displaystyle \\left[\\begin{matrix}\\frac{1}{y}\\\\- \\frac{x}{y^{2}}\\end{matrix}\\right]$",
            "text/plain": [
              "Matrix([\n",
              "[    1/y],\n",
              "[-x/y**2]])"
            ]
          },
          "metadata": {},
          "execution_count": 20
        }
      ]
    },
    {
      "cell_type": "markdown",
      "metadata": {
        "id": "l9IRuNxZEKRS"
      },
      "source": [
        "# Matriz Jacobiana"
      ]
    },
    {
      "cell_type": "markdown",
      "metadata": {
        "id": "G1GgPXguEPTO"
      },
      "source": [
        "Suponga que $\\mathbf {F} :\\mathbb {R} ^{n}\\to \\mathbb {R} ^{m}$ es una función tal que sus derivadas parciales de primer orden existen en $\\mathbb {R} ^{n}$. La **matriz Jacobiana** de $\\mathbf {F} $, denotada por $\\mathbf {J} \n",
        "$, está definida como una matriz de tamaño $m\\times n$ cuya $(i,j)$-ésima entrada es $J_{i,j} = \\frac{\\partial f_i}{ \\partial x_j}$. O en su forma explícita, \n",
        "\n",
        "\\begin{align}\n",
        "J = \\left[ \\frac{\\partial \\mathbf{F}}{\\partial x_1} \\dots \\frac{\\partial \\mathbf{F}}{\\partial x_n} \\right] = \\left[ \n",
        "    \\begin{matrix}\n",
        "    \\nabla^T f_1 \\\\\n",
        "    \\vdots \\\\\n",
        "    \\nabla^T f_m\n",
        "    \\end{matrix}\n",
        "    \\right] = \n",
        "    \\left[ \n",
        "        \\begin{matrix}\n",
        "        \\frac{\\partial f_1}{\\partial x_1}& \\dots& \\frac{\\partial f_1}{\\partial x_n} \\\\\n",
        "        \\vdots& \\ddots&\\vdots\\\\\n",
        "        \\frac{\\partial f_m}{\\partial x_1} &\\dots& \\frac{\\partial f_m}{\\partial x_n} \\\\ \n",
        "        \\end{matrix}\n",
        "    \\right]\n",
        "\\end{align}"
      ]
    },
    {
      "cell_type": "markdown",
      "metadata": {
        "id": "qiZt_JcPq_IY"
      },
      "source": [
        "Obtendremos la matriz Jacobiana de la función $h(x, y) = (x^2, \\frac{x}{y}, 2x + 3y)$"
      ]
    },
    {
      "cell_type": "code",
      "metadata": {
        "colab": {
          "base_uri": "https://localhost:8080/",
          "height": 80
        },
        "id": "b-4osx70rQiI",
        "outputId": "ba21517a-f642-4470-b37d-1f983e335582"
      },
      "source": [
        "# x, y = symbols('x y') # Ya no es necesario definirlos porque están definidos arriba\n",
        "F = Matrix([\n",
        "            x**2, \n",
        "            x/y, \n",
        "            2*x + 3*y\n",
        "            ])\n",
        "F.jacobian([x, y])"
      ],
      "execution_count": 21,
      "outputs": [
        {
          "output_type": "execute_result",
          "data": {
            "text/latex": "$\\displaystyle \\left[\\begin{matrix}2 x & 0\\\\\\frac{1}{y} & - \\frac{x}{y^{2}}\\\\2 & 3\\end{matrix}\\right]$",
            "text/plain": [
              "Matrix([\n",
              "[2*x,       0],\n",
              "[1/y, -x/y**2],\n",
              "[  2,       3]])"
            ]
          },
          "metadata": {},
          "execution_count": 21
        }
      ]
    },
    {
      "cell_type": "markdown",
      "metadata": {
        "id": "bF5YGpefyDhL"
      },
      "source": [
        "# Matriz Hessiana"
      ]
    },
    {
      "cell_type": "markdown",
      "metadata": {
        "id": "inBKsKgpyNAn"
      },
      "source": [
        "La matriz Hessiana es una matirz cuadrada con las derivadas parciales de segundo orden de una función.\n",
        "\n",
        "Sea $f : \\mathbb{R}^n \\to \\mathbb{R}$. Si todas las derivadas parciales de segundo orden existen y son continuas en el dominio de la función, entonces la matriz **Hessiana** de $f$ es una matriz cuadrada de $n\\times n$, de la siguiente manera:\n",
        "\n",
        "\\begin{align}\n",
        "H_f = \\left[\n",
        "    \\begin{matrix}\n",
        "    \\frac{\\partial^2 f}{\\partial x_1^2} & \\frac{\\partial^2 f}{\\partial x_1 \\partial x_2} & \\dots & \\frac{\\partial^2 f}{\\partial x_1 \\partial x_n} \\\\\n",
        "    \\frac{\\partial^2 f}{\\partial x_2 \\partial x_1} & \\frac{\\partial^2 f}{\\partial x_2^2} & \\dots & \\frac{\\partial^2 f}{\\partial x_1 \\partial x_n} \\\\\n",
        "    \\vdots & \\vdots & \\ddots & \\vdots \\\\\n",
        "    \\frac{\\partial^2 f}{\\partial x_n \\partial x_1} & \\frac{\\partial^2 f}{\\partial x_n \\partial x_2} & \\dots & \\frac{\\partial^2 f}{\\partial x_n^2} \\\\\n",
        "    \\end{matrix}\n",
        "    \\right]\n",
        "\\end{align}"
      ]
    },
    {
      "cell_type": "markdown",
      "metadata": {
        "id": "VeYC9kBwyGAs"
      },
      "source": [
        "Obtendremos la matriz hessiana de $f(x, y, z) = x^6y^4 + z^3$."
      ]
    },
    {
      "cell_type": "code",
      "metadata": {
        "id": "GRsIk32u1RXT"
      },
      "source": [
        "from sympy import hessian\n",
        "x, y, z = symbols(\"x y z\")\n",
        "f = x**6 * y**4 + z**3"
      ],
      "execution_count": 22,
      "outputs": []
    },
    {
      "cell_type": "code",
      "metadata": {
        "colab": {
          "base_uri": "https://localhost:8080/",
          "height": 79
        },
        "id": "RiZRAL8t1VT2",
        "outputId": "8eca1c49-3373-4089-be12-c42bdbc8a197"
      },
      "source": [
        "hessian(f, (x, y, z))"
      ],
      "execution_count": 24,
      "outputs": [
        {
          "output_type": "execute_result",
          "data": {
            "text/latex": "$\\displaystyle \\left[\\begin{matrix}30 x^{4} y^{4} & 24 x^{5} y^{3} & 0\\\\24 x^{5} y^{3} & 12 x^{6} y^{2} & 0\\\\0 & 0 & 6 z\\end{matrix}\\right]$",
            "text/plain": [
              "Matrix([\n",
              "[30*x**4*y**4, 24*x**5*y**3,   0],\n",
              "[24*x**5*y**3, 12*x**6*y**2,   0],\n",
              "[           0,            0, 6*z]])"
            ]
          },
          "metadata": {},
          "execution_count": 24
        }
      ]
    }
  ]
}